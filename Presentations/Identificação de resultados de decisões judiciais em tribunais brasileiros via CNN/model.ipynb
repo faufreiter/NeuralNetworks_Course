{
 "cells": [
  {
   "cell_type": "code",
   "execution_count": 1,
   "metadata": {},
   "outputs": [],
   "source": [
    "import pandas as pd\n",
    "import numpy as np\n",
    "import matplotlib.pyplot as plt\n",
    "import string\n",
    "from nltk.corpus import stopwords\n",
    "from collections import Counter, defaultdict, OrderedDict\n",
    "import seaborn as sns\n",
    "import math\n",
    "import string\n",
    "import sys\n",
    "import random"
   ]
  },
  {
   "cell_type": "code",
   "execution_count": 1,
   "metadata": {},
   "outputs": [],
   "source": [
    "# Link da apresentação:\n",
    "# https://docs.google.com/presentation/d/1Nu88T4lYAQfxbOlibmbRg6QviAyX7g760gVnwpwGMoY/edit?usp=sharing"
   ]
  },
  {
   "cell_type": "code",
   "execution_count": 2,
   "metadata": {},
   "outputs": [],
   "source": [
    "df_model = pd.read_csv('pre_processed_data.csv')"
   ]
  },
  {
   "cell_type": "code",
   "execution_count": 4,
   "metadata": {},
   "outputs": [
    {
     "data": {
      "text/plain": [
       "(1448, 4)"
      ]
     },
     "execution_count": 4,
     "metadata": {},
     "output_type": "execute_result"
    }
   ],
   "source": [
    "df_model.shape"
   ]
  },
  {
   "cell_type": "markdown",
   "metadata": {},
   "source": [
    "### Tokenizing data"
   ]
  },
  {
   "cell_type": "markdown",
   "metadata": {},
   "source": [
    "Tokenization is the process in which the sentence/text is split into array of words called tokens. This helps to do transformations on each words separately and this is also required to transform words to numbers."
   ]
  },
  {
   "cell_type": "code",
   "execution_count": 4,
   "metadata": {},
   "outputs": [],
   "source": [
    "from gensim.utils import simple_preprocess\n",
    "from nltk.stem.snowball import PortugueseStemmer"
   ]
  },
  {
   "cell_type": "markdown",
   "metadata": {},
   "source": [
    "Gensim’s simple_preprocess allows you to convert text to lower case and remove punctuations."
   ]
  },
  {
   "cell_type": "code",
   "execution_count": 5,
   "metadata": {},
   "outputs": [
    {
     "data": {
      "text/html": [
       "<div>\n",
       "<style scoped>\n",
       "    .dataframe tbody tr th:only-of-type {\n",
       "        vertical-align: middle;\n",
       "    }\n",
       "\n",
       "    .dataframe tbody tr th {\n",
       "        vertical-align: top;\n",
       "    }\n",
       "\n",
       "    .dataframe thead th {\n",
       "        text-align: right;\n",
       "    }\n",
       "</style>\n",
       "<table border=\"1\" class=\"dataframe\">\n",
       "  <thead>\n",
       "    <tr style=\"text-align: right;\">\n",
       "      <th></th>\n",
       "      <th>Unnamed: 0</th>\n",
       "      <th>id</th>\n",
       "      <th>raw_text</th>\n",
       "      <th>resultado</th>\n",
       "      <th>decisao_tokenizada</th>\n",
       "    </tr>\n",
       "  </thead>\n",
       "  <tbody>\n",
       "    <tr>\n",
       "      <th>0</th>\n",
       "      <td>0</td>\n",
       "      <td>5e58e21b038d690001ceee95</td>\n",
       "      <td>PODER JUDICIÁRIOTRIBUNAL REGIONAL FEDERAL DA 3...</td>\n",
       "      <td>Favorável</td>\n",
       "      <td>[poder, regional, federal, da, regiao, publica...</td>\n",
       "    </tr>\n",
       "    <tr>\n",
       "      <th>1</th>\n",
       "      <td>1</td>\n",
       "      <td>5e58e21b038d690001ceee96</td>\n",
       "      <td>PODER JUDICIÁRIOTRIBUNAL REGIONAL FEDERAL DA 3...</td>\n",
       "      <td>Favorável</td>\n",
       "      <td>[poder, regional, federal, da, regiao, publica...</td>\n",
       "    </tr>\n",
       "    <tr>\n",
       "      <th>2</th>\n",
       "      <td>2</td>\n",
       "      <td>5e58e21b038d690001ceee97</td>\n",
       "      <td>PODER JUDICIÁRIOTRIBUNAL REGIONAL FEDERAL DA 3...</td>\n",
       "      <td>Favorável</td>\n",
       "      <td>[poder, regional, federal, da, regiao, publica...</td>\n",
       "    </tr>\n",
       "    <tr>\n",
       "      <th>3</th>\n",
       "      <td>3</td>\n",
       "      <td>5f0f8a0e96f3a30001f7bd73</td>\n",
       "      <td>ESTADO DO CEARÁ\\nPODER JUDICIÁRIO\\nTRIBUNAL DE...</td>\n",
       "      <td>Favorável</td>\n",
       "      <td>[estado, do, ceara, poder, judiciario, tribuna...</td>\n",
       "    </tr>\n",
       "    <tr>\n",
       "      <th>4</th>\n",
       "      <td>4</td>\n",
       "      <td>5f0f8f1947e0fd00016b3193</td>\n",
       "      <td>ESTADO DO CEARÁ\\nPODER JUDICIÁRIO\\nTRIBUNAL DE...</td>\n",
       "      <td>Favorável</td>\n",
       "      <td>[estado, do, ceara, poder, judiciario, tribuna...</td>\n",
       "    </tr>\n",
       "  </tbody>\n",
       "</table>\n",
       "</div>"
      ],
      "text/plain": [
       "   Unnamed: 0                        id  \\\n",
       "0           0  5e58e21b038d690001ceee95   \n",
       "1           1  5e58e21b038d690001ceee96   \n",
       "2           2  5e58e21b038d690001ceee97   \n",
       "3           3  5f0f8a0e96f3a30001f7bd73   \n",
       "4           4  5f0f8f1947e0fd00016b3193   \n",
       "\n",
       "                                            raw_text  resultado  \\\n",
       "0  PODER JUDICIÁRIOTRIBUNAL REGIONAL FEDERAL DA 3...  Favorável   \n",
       "1  PODER JUDICIÁRIOTRIBUNAL REGIONAL FEDERAL DA 3...  Favorável   \n",
       "2  PODER JUDICIÁRIOTRIBUNAL REGIONAL FEDERAL DA 3...  Favorável   \n",
       "3  ESTADO DO CEARÁ\\nPODER JUDICIÁRIO\\nTRIBUNAL DE...  Favorável   \n",
       "4  ESTADO DO CEARÁ\\nPODER JUDICIÁRIO\\nTRIBUNAL DE...  Favorável   \n",
       "\n",
       "                                  decisao_tokenizada  \n",
       "0  [poder, regional, federal, da, regiao, publica...  \n",
       "1  [poder, regional, federal, da, regiao, publica...  \n",
       "2  [poder, regional, federal, da, regiao, publica...  \n",
       "3  [estado, do, ceara, poder, judiciario, tribuna...  \n",
       "4  [estado, do, ceara, poder, judiciario, tribuna...  "
      ]
     },
     "execution_count": 5,
     "metadata": {},
     "output_type": "execute_result"
    }
   ],
   "source": [
    "df_model['decisao_tokenizada'] = [simple_preprocess(line, deacc=True) for line in df_model['raw_text']] \n",
    "df_model.head()"
   ]
  },
  {
   "cell_type": "markdown",
   "metadata": {},
   "source": [
    "### Stemming\n"
   ]
  },
  {
   "cell_type": "markdown",
   "metadata": {},
   "source": [
    "Stemming process reduces the words to its’ root word. Unlike Lemmatization which uses grammar rules and dictionary for mapping words to root form, stemming simply removes suffixes/prefixes."
   ]
  },
  {
   "cell_type": "code",
   "execution_count": 6,
   "metadata": {},
   "outputs": [
    {
     "data": {
      "text/html": [
       "<div>\n",
       "<style scoped>\n",
       "    .dataframe tbody tr th:only-of-type {\n",
       "        vertical-align: middle;\n",
       "    }\n",
       "\n",
       "    .dataframe tbody tr th {\n",
       "        vertical-align: top;\n",
       "    }\n",
       "\n",
       "    .dataframe thead th {\n",
       "        text-align: right;\n",
       "    }\n",
       "</style>\n",
       "<table border=\"1\" class=\"dataframe\">\n",
       "  <thead>\n",
       "    <tr style=\"text-align: right;\">\n",
       "      <th></th>\n",
       "      <th>Unnamed: 0</th>\n",
       "      <th>id</th>\n",
       "      <th>raw_text</th>\n",
       "      <th>resultado</th>\n",
       "      <th>decisao_tokenizada</th>\n",
       "      <th>stemmed_tokens</th>\n",
       "    </tr>\n",
       "  </thead>\n",
       "  <tbody>\n",
       "    <tr>\n",
       "      <th>0</th>\n",
       "      <td>0</td>\n",
       "      <td>5e58e21b038d690001ceee95</td>\n",
       "      <td>PODER JUDICIÁRIOTRIBUNAL REGIONAL FEDERAL DA 3...</td>\n",
       "      <td>Favorável</td>\n",
       "      <td>[poder, regional, federal, da, regiao, publica...</td>\n",
       "      <td>[pod, regional, federal, da, regia, public, em...</td>\n",
       "    </tr>\n",
       "    <tr>\n",
       "      <th>1</th>\n",
       "      <td>1</td>\n",
       "      <td>5e58e21b038d690001ceee96</td>\n",
       "      <td>PODER JUDICIÁRIOTRIBUNAL REGIONAL FEDERAL DA 3...</td>\n",
       "      <td>Favorável</td>\n",
       "      <td>[poder, regional, federal, da, regiao, publica...</td>\n",
       "      <td>[pod, regional, federal, da, regia, public, em...</td>\n",
       "    </tr>\n",
       "    <tr>\n",
       "      <th>2</th>\n",
       "      <td>2</td>\n",
       "      <td>5e58e21b038d690001ceee97</td>\n",
       "      <td>PODER JUDICIÁRIOTRIBUNAL REGIONAL FEDERAL DA 3...</td>\n",
       "      <td>Favorável</td>\n",
       "      <td>[poder, regional, federal, da, regiao, publica...</td>\n",
       "      <td>[pod, regional, federal, da, regia, public, em...</td>\n",
       "    </tr>\n",
       "    <tr>\n",
       "      <th>3</th>\n",
       "      <td>3</td>\n",
       "      <td>5f0f8a0e96f3a30001f7bd73</td>\n",
       "      <td>ESTADO DO CEARÁ\\nPODER JUDICIÁRIO\\nTRIBUNAL DE...</td>\n",
       "      <td>Favorável</td>\n",
       "      <td>[estado, do, ceara, poder, judiciario, tribuna...</td>\n",
       "      <td>[estad, do, cear, pod, judiciari, tribunal, de...</td>\n",
       "    </tr>\n",
       "    <tr>\n",
       "      <th>4</th>\n",
       "      <td>4</td>\n",
       "      <td>5f0f8f1947e0fd00016b3193</td>\n",
       "      <td>ESTADO DO CEARÁ\\nPODER JUDICIÁRIO\\nTRIBUNAL DE...</td>\n",
       "      <td>Favorável</td>\n",
       "      <td>[estado, do, ceara, poder, judiciario, tribuna...</td>\n",
       "      <td>[estad, do, cear, pod, judiciari, tribunal, de...</td>\n",
       "    </tr>\n",
       "  </tbody>\n",
       "</table>\n",
       "</div>"
      ],
      "text/plain": [
       "   Unnamed: 0                        id  \\\n",
       "0           0  5e58e21b038d690001ceee95   \n",
       "1           1  5e58e21b038d690001ceee96   \n",
       "2           2  5e58e21b038d690001ceee97   \n",
       "3           3  5f0f8a0e96f3a30001f7bd73   \n",
       "4           4  5f0f8f1947e0fd00016b3193   \n",
       "\n",
       "                                            raw_text  resultado  \\\n",
       "0  PODER JUDICIÁRIOTRIBUNAL REGIONAL FEDERAL DA 3...  Favorável   \n",
       "1  PODER JUDICIÁRIOTRIBUNAL REGIONAL FEDERAL DA 3...  Favorável   \n",
       "2  PODER JUDICIÁRIOTRIBUNAL REGIONAL FEDERAL DA 3...  Favorável   \n",
       "3  ESTADO DO CEARÁ\\nPODER JUDICIÁRIO\\nTRIBUNAL DE...  Favorável   \n",
       "4  ESTADO DO CEARÁ\\nPODER JUDICIÁRIO\\nTRIBUNAL DE...  Favorável   \n",
       "\n",
       "                                  decisao_tokenizada  \\\n",
       "0  [poder, regional, federal, da, regiao, publica...   \n",
       "1  [poder, regional, federal, da, regiao, publica...   \n",
       "2  [poder, regional, federal, da, regiao, publica...   \n",
       "3  [estado, do, ceara, poder, judiciario, tribuna...   \n",
       "4  [estado, do, ceara, poder, judiciario, tribuna...   \n",
       "\n",
       "                                      stemmed_tokens  \n",
       "0  [pod, regional, federal, da, regia, public, em...  \n",
       "1  [pod, regional, federal, da, regia, public, em...  \n",
       "2  [pod, regional, federal, da, regia, public, em...  \n",
       "3  [estad, do, cear, pod, judiciari, tribunal, de...  \n",
       "4  [estad, do, cear, pod, judiciari, tribunal, de...  "
      ]
     },
     "execution_count": 6,
     "metadata": {},
     "output_type": "execute_result"
    }
   ],
   "source": [
    "port_stemmer = PortugueseStemmer()\n",
    "df_model['stemmed_tokens'] = [[port_stemmer.stem(word) for word in tokens] for tokens in df_model['decisao_tokenizada']]\n",
    "df_model.head()"
   ]
  },
  {
   "cell_type": "markdown",
   "metadata": {},
   "source": [
    "### Building training and testing sets"
   ]
  },
  {
   "cell_type": "code",
   "execution_count": 7,
   "metadata": {},
   "outputs": [],
   "source": [
    "from sklearn.model_selection import train_test_split\n",
    "from gensim.models import Word2Vec, word2vec\n",
    "import time"
   ]
  },
  {
   "cell_type": "code",
   "execution_count": 10,
   "metadata": {},
   "outputs": [
    {
     "data": {
      "text/plain": [
       "Desfavorável    777\n",
       "Favorável       667\n",
       "Name: resultado, dtype: int64"
      ]
     },
     "execution_count": 10,
     "metadata": {},
     "output_type": "execute_result"
    }
   ],
   "source": [
    "df_model['resultado'].value_counts()"
   ]
  },
  {
   "cell_type": "code",
   "execution_count": 11,
   "metadata": {},
   "outputs": [],
   "source": [
    "df_model['resultado_num'] = df_model['resultado'].map({'Desfavorável':0, 'Favorável':1})"
   ]
  },
  {
   "cell_type": "code",
   "execution_count": 12,
   "metadata": {},
   "outputs": [
    {
     "data": {
      "text/plain": [
       "0.0    777\n",
       "1.0    667\n",
       "Name: resultado_num, dtype: int64"
      ]
     },
     "execution_count": 12,
     "metadata": {},
     "output_type": "execute_result"
    }
   ],
   "source": [
    "df_model['resultado_num'].value_counts()"
   ]
  },
  {
   "cell_type": "markdown",
   "metadata": {},
   "source": [
    "Balanceando as duas classes presentes em nosso conjunto de dados:"
   ]
  },
  {
   "cell_type": "code",
   "execution_count": 13,
   "metadata": {},
   "outputs": [],
   "source": [
    "df_favs = df_model[df_model.resultado_num == 1]\n",
    "df_desfavs = df_model[df_model.resultado_num == 0]"
   ]
  },
  {
   "cell_type": "code",
   "execution_count": 14,
   "metadata": {},
   "outputs": [
    {
     "data": {
      "text/plain": [
       "(667, 7)"
      ]
     },
     "execution_count": 14,
     "metadata": {},
     "output_type": "execute_result"
    }
   ],
   "source": [
    "df_favs.shape"
   ]
  },
  {
   "cell_type": "markdown",
   "metadata": {},
   "source": [
    "Escolhendo aleatoriamente decisões desfavoráveis para utilizarmos:"
   ]
  },
  {
   "cell_type": "code",
   "execution_count": 15,
   "metadata": {},
   "outputs": [],
   "source": [
    "ids_desfavs = list(df_desfavs.index)\n",
    "ids_desfavs_dentro = random.sample(list(df_desfavs.index), 667)"
   ]
  },
  {
   "cell_type": "code",
   "execution_count": 16,
   "metadata": {},
   "outputs": [],
   "source": [
    "df_desfavs_dentro = df_desfavs.loc[ids_desfavs_dentro]"
   ]
  },
  {
   "cell_type": "markdown",
   "metadata": {},
   "source": [
    "Redefinindo o dataframe que utilizaremos para treinar o modelo:"
   ]
  },
  {
   "cell_type": "code",
   "execution_count": 17,
   "metadata": {},
   "outputs": [
    {
     "data": {
      "text/plain": [
       "0.0    667\n",
       "1.0    667\n",
       "Name: resultado_num, dtype: int64"
      ]
     },
     "execution_count": 17,
     "metadata": {},
     "output_type": "execute_result"
    }
   ],
   "source": [
    "df_model = pd.concat([df_favs, df_desfavs_dentro]).reset_index()\n",
    "df_model.resultado_num.value_counts()"
   ]
  },
  {
   "cell_type": "code",
   "execution_count": 21,
   "metadata": {},
   "outputs": [
    {
     "name": "stdout",
     "output_type": "stream",
     "text": [
      "Contando os valores para os resultados do conjunto de treino:\n",
      "1.0    470\n",
      "0.0    463\n",
      "Name: resultado_num, dtype: int64\n",
      "Contando os valores para os resultados do conjunto de teste:\n",
      "0.0    204\n",
      "1.0    197\n",
      "Name: resultado_num, dtype: int64\n",
      "<class 'pandas.core.frame.DataFrame'>\n",
      "<class 'pandas.core.series.Series'>\n"
     ]
    }
   ],
   "source": [
    "def split_train_test(df, \n",
    "                     features=['decisao_tokenizada','stemmed_tokens'],\n",
    "                     target='resultado_num',\n",
    "                     test_size=0.3, \n",
    "                     shuffle_state=True):\n",
    "    \n",
    "    X_train, X_test, Y_train, Y_test = train_test_split(df[features], \n",
    "                                                        df[target], \n",
    "                                                        shuffle=shuffle_state,\n",
    "                                                        test_size=test_size, \n",
    "                                                        random_state=15)\n",
    "    \n",
    "    print(\"Contando os valores para os resultados do conjunto de treino:\")\n",
    "    print(Y_train.value_counts())\n",
    "    print(\"Contando os valores para os resultados do conjunto de teste:\")\n",
    "    print(Y_test.value_counts())\n",
    "    print(type(X_train))\n",
    "    print(type(Y_train))\n",
    "    X_train = X_train.reset_index()\n",
    "    X_test = X_test.reset_index()\n",
    "    Y_train = Y_train.to_frame()\n",
    "    Y_train = Y_train.reset_index()\n",
    "    Y_test = Y_test.to_frame()\n",
    "    Y_test = Y_test.reset_index()\n",
    "    \n",
    "    return X_train, X_test, Y_train, Y_test\n",
    "\n",
    "\n",
    "X_train, X_test, Y_train, Y_test = split_train_test(df_model)"
   ]
  },
  {
   "cell_type": "code",
   "execution_count": 22,
   "metadata": {},
   "outputs": [
    {
     "data": {
      "text/html": [
       "<div>\n",
       "<style scoped>\n",
       "    .dataframe tbody tr th:only-of-type {\n",
       "        vertical-align: middle;\n",
       "    }\n",
       "\n",
       "    .dataframe tbody tr th {\n",
       "        vertical-align: top;\n",
       "    }\n",
       "\n",
       "    .dataframe thead th {\n",
       "        text-align: right;\n",
       "    }\n",
       "</style>\n",
       "<table border=\"1\" class=\"dataframe\">\n",
       "  <thead>\n",
       "    <tr style=\"text-align: right;\">\n",
       "      <th></th>\n",
       "      <th>index</th>\n",
       "      <th>decisao_tokenizada</th>\n",
       "      <th>stemmed_tokens</th>\n",
       "    </tr>\n",
       "  </thead>\n",
       "  <tbody>\n",
       "    <tr>\n",
       "      <th>0</th>\n",
       "      <td>44</td>\n",
       "      <td>[habeas, corpus, nº, rs, relator, ministro, fe...</td>\n",
       "      <td>[hab, corpus, nº, rs, relator, ministr, felix,...</td>\n",
       "    </tr>\n",
       "    <tr>\n",
       "      <th>1</th>\n",
       "      <td>399</td>\n",
       "      <td>[recurso, extraordinario, com, agravo, distrit...</td>\n",
       "      <td>[recurs, extraordinari, com, agrav, distrit, f...</td>\n",
       "    </tr>\n",
       "    <tr>\n",
       "      <th>2</th>\n",
       "      <td>325</td>\n",
       "      <td>[habeas, corpus, nº, rj, relatora, ministra, m...</td>\n",
       "      <td>[hab, corpus, nº, rj, relator, ministr, mar, t...</td>\n",
       "    </tr>\n",
       "    <tr>\n",
       "      <th>3</th>\n",
       "      <td>531</td>\n",
       "      <td>[tribunal, de, justica, do, estado, de, sao, p...</td>\n",
       "      <td>[tribunal, de, justic, do, estad, de, sao, pau...</td>\n",
       "    </tr>\n",
       "    <tr>\n",
       "      <th>4</th>\n",
       "      <td>1057</td>\n",
       "      <td>[pretende, defesa, de, carolina, dos, santos, ...</td>\n",
       "      <td>[pretend, defes, de, carolin, dos, sant, caeta...</td>\n",
       "    </tr>\n",
       "    <tr>\n",
       "      <th>...</th>\n",
       "      <td>...</td>\n",
       "      <td>...</td>\n",
       "      <td>...</td>\n",
       "    </tr>\n",
       "    <tr>\n",
       "      <th>928</th>\n",
       "      <td>1223</td>\n",
       "      <td>[habeas, corpus, nº, sp, relator, ministro, le...</td>\n",
       "      <td>[hab, corpus, nº, sp, relator, ministr, leopol...</td>\n",
       "    </tr>\n",
       "    <tr>\n",
       "      <th>929</th>\n",
       "      <td>667</td>\n",
       "      <td>[cuida, se, de, pedido, de, revogacao, de, pri...</td>\n",
       "      <td>[cuid, se, de, ped, de, revogaca, de, prisa, p...</td>\n",
       "    </tr>\n",
       "    <tr>\n",
       "      <th>930</th>\n",
       "      <td>156</td>\n",
       "      <td>[habeas, corpus, nº, sp, relator, ministro, re...</td>\n",
       "      <td>[hab, corpus, nº, sp, relator, ministr, reynal...</td>\n",
       "    </tr>\n",
       "    <tr>\n",
       "      <th>931</th>\n",
       "      <td>384</td>\n",
       "      <td>[habeas, corpus, nº, sp, relator, ministro, se...</td>\n",
       "      <td>[hab, corpus, nº, sp, relator, ministr, sebast...</td>\n",
       "    </tr>\n",
       "    <tr>\n",
       "      <th>932</th>\n",
       "      <td>645</td>\n",
       "      <td>[tribunal, de, justica, gabinete, des, jose, c...</td>\n",
       "      <td>[tribunal, de, justic, gabinet, des, jos, carl...</td>\n",
       "    </tr>\n",
       "  </tbody>\n",
       "</table>\n",
       "<p>933 rows × 3 columns</p>\n",
       "</div>"
      ],
      "text/plain": [
       "     index                                 decisao_tokenizada  \\\n",
       "0       44  [habeas, corpus, nº, rs, relator, ministro, fe...   \n",
       "1      399  [recurso, extraordinario, com, agravo, distrit...   \n",
       "2      325  [habeas, corpus, nº, rj, relatora, ministra, m...   \n",
       "3      531  [tribunal, de, justica, do, estado, de, sao, p...   \n",
       "4     1057  [pretende, defesa, de, carolina, dos, santos, ...   \n",
       "..     ...                                                ...   \n",
       "928   1223  [habeas, corpus, nº, sp, relator, ministro, le...   \n",
       "929    667  [cuida, se, de, pedido, de, revogacao, de, pri...   \n",
       "930    156  [habeas, corpus, nº, sp, relator, ministro, re...   \n",
       "931    384  [habeas, corpus, nº, sp, relator, ministro, se...   \n",
       "932    645  [tribunal, de, justica, gabinete, des, jose, c...   \n",
       "\n",
       "                                        stemmed_tokens  \n",
       "0    [hab, corpus, nº, rs, relator, ministr, felix,...  \n",
       "1    [recurs, extraordinari, com, agrav, distrit, f...  \n",
       "2    [hab, corpus, nº, rj, relator, ministr, mar, t...  \n",
       "3    [tribunal, de, justic, do, estad, de, sao, pau...  \n",
       "4    [pretend, defes, de, carolin, dos, sant, caeta...  \n",
       "..                                                 ...  \n",
       "928  [hab, corpus, nº, sp, relator, ministr, leopol...  \n",
       "929  [cuid, se, de, ped, de, revogaca, de, prisa, p...  \n",
       "930  [hab, corpus, nº, sp, relator, ministr, reynal...  \n",
       "931  [hab, corpus, nº, sp, relator, ministr, sebast...  \n",
       "932  [tribunal, de, justic, gabinet, des, jos, carl...  \n",
       "\n",
       "[933 rows x 3 columns]"
      ]
     },
     "execution_count": 22,
     "metadata": {},
     "output_type": "execute_result"
    }
   ],
   "source": [
    "X_train"
   ]
  },
  {
   "cell_type": "markdown",
   "metadata": {},
   "source": [
    "## Word2Vec embedding"
   ]
  },
  {
   "cell_type": "code",
   "execution_count": 26,
   "metadata": {},
   "outputs": [
    {
     "name": "stdout",
     "output_type": "stream",
     "text": [
      "Tempo para treinar o word2vec:  66.25003242492676 segundos\n"
     ]
    }
   ],
   "source": [
    "size = 300\n",
    "window = 3\n",
    "min_count = 1\n",
    "workers = 3\n",
    "sg = 1\n",
    "\n",
    "OUTPUT_FOLDER = 'output'\n",
    "\n",
    "word2vec_file = OUTPUT_FOLDER + '/' + 'word2vec_' + str(size) + '.model'\n",
    "start_time = time.time()\n",
    "stemmed_tokens = pd.Series(df_model['stemmed_tokens']).values\n",
    "\n",
    "# treinando o Word2Vec\n",
    "w2v_model = Word2Vec(stemmed_tokens, \n",
    "                     min_count = min_count, \n",
    "                     size = size, \n",
    "                     workers = workers, \n",
    "                     window = window, \n",
    "                     sg = sg)\n",
    "\n",
    "print(\"Tempo para treinar o word2vec: \", str(time.time() - start_time), 'segundos')\n",
    "w2v_model.save(word2vec_file)"
   ]
  },
  {
   "cell_type": "markdown",
   "metadata": {},
   "source": [
    "Carregando o modelo já treinado e acessando seu vocabulário:"
   ]
  },
  {
   "cell_type": "code",
   "execution_count": 27,
   "metadata": {},
   "outputs": [
    {
     "name": "stdout",
     "output_type": "stream",
     "text": [
      "Número total de palavras: 16497\n"
     ]
    }
   ],
   "source": [
    "sg_w2v_model = Word2Vec.load(word2vec_file)\n",
    "\n",
    "print('Número total de palavras:',len(sg_w2v_model.wv.vocab))\n",
    "\n",
    "vocab_size = len(sg_w2v_model.wv.vocab)"
   ]
  },
  {
   "cell_type": "markdown",
   "metadata": {},
   "source": [
    "A seguir, utilizamos o modelo Word2Vec para obter os vetores de documentos no conjunto de dados:"
   ]
  },
  {
   "cell_type": "markdown",
   "metadata": {},
   "source": [
    "Os vetores Word2Vec são gerados para cada decisão nos dados de treinamento, percorrendo X_train. Simplesmente usando o modelo em cada palavra da decisão, obtemos os vetores \"embedding\" dessas palavras. Vamos implementar a média sobre cada vetor de palavras de uma decisão e isso representará um documento de nosso conjunto de dados. Esses vetores são armazenados em um arquivo csv. O seguinte código escreve os vetores no OUTPUT_FOLDER definido na primeira etapa. "
   ]
  },
  {
   "cell_type": "markdown",
   "metadata": {},
   "source": [
    "Gerando vetores word2vec:"
   ]
  },
  {
   "cell_type": "code",
   "execution_count": 28,
   "metadata": {},
   "outputs": [
    {
     "name": "stderr",
     "output_type": "stream",
     "text": [
      "<ipython-input-28-eabd3448b083>:4: DeprecationWarning: Call to deprecated `__getitem__` (Method will be removed in 4.0.0, use self.wv.__getitem__() instead).\n",
      "  model_vector = (np.mean([sg_w2v_model[token] for token in row['stemmed_tokens']],\n"
     ]
    }
   ],
   "source": [
    "word2vec_filename = OUTPUT_FOLDER + '/' + 'train_review_word2vec.csv'\n",
    "with open(word2vec_filename, 'w+') as word2vec_file:\n",
    "    for index, row in X_train.iterrows():\n",
    "        model_vector = (np.mean([sg_w2v_model[token] for token in row['stemmed_tokens']], \n",
    "                                axis=0)).tolist()\n",
    "        if index == 0:\n",
    "            header = \",\".join(str(ele) for ele in range(size))\n",
    "            word2vec_file.write(header)\n",
    "            word2vec_file.write(\"\\n\")\n",
    "        \n",
    "        if type(model_vector) is list:  \n",
    "            line1 = \",\".join( [str(vector_element) for vector_element in model_vector] )\n",
    "        else:\n",
    "            line1 = \",\".join([str(0) for i in range(size)])\n",
    "        word2vec_file.write(line1)\n",
    "        word2vec_file.write('\\n')"
   ]
  },
  {
   "cell_type": "code",
   "execution_count": 162,
   "metadata": {},
   "outputs": [
    {
     "name": "stderr",
     "output_type": "stream",
     "text": [
      "<ipython-input-162-b0387b130bda>:3: DeprecationWarning: Call to deprecated `__getitem__` (Method will be removed in 4.0.0, use self.wv.__getitem__() instead).\n",
      "  model_vector = np.mean([sg_w2v_model[token] for token in row['stemmed_tokens']], axis=0)\n"
     ]
    }
   ],
   "source": [
    "word2vec_test = []\n",
    "for index, row in X_test.iterrows():\n",
    "    model_vector = np.mean([sg_w2v_model[token] for token in row['stemmed_tokens']], axis=0)\n",
    "    word2vec_test.append(model_vector)"
   ]
  },
  {
   "cell_type": "markdown",
   "metadata": {},
   "source": [
    "#### Definindo função de avaliação de modelos"
   ]
  },
  {
   "cell_type": "code",
   "execution_count": 135,
   "metadata": {},
   "outputs": [],
   "source": [
    "from sklearn import model_selection\n",
    "\n",
    "from sklearn.metrics import confusion_matrix\n",
    "from sklearn.metrics import classification_report\n",
    "from sklearn.metrics import confusion_matrix\n",
    "from sklearn.metrics import roc_auc_score\n",
    "from sklearn.metrics import roc_curve\n",
    "from sklearn.metrics import auc\n",
    "from sklearn.metrics import accuracy_score\n",
    "from sklearn.metrics import average_precision_score\n",
    "from sklearn.metrics import f1_score\n",
    "from sklearn.metrics import precision_recall_curve\n",
    "\n",
    "import itertools"
   ]
  },
  {
   "cell_type": "code",
   "execution_count": 136,
   "metadata": {},
   "outputs": [],
   "source": [
    "# função de avaliação de modelo que roubei do Renato :)\n",
    "def plot_confusion_matrix(cm, classes,\n",
    "                          normalize=True,\n",
    "                          title='Confusion matrix',\n",
    "                          cmap=plt.cm.Blues):\n",
    "    \"\"\"\n",
    "    This function prints and plots the confusion matrix.\n",
    "    Normalization can be applied by setting `normalize=True`.\n",
    "    \"\"\"\n",
    "\n",
    "    plt.imshow(cm, interpolation='nearest', cmap=cmap, aspect='auto')\n",
    "    plt.title(title)\n",
    "    plt.colorbar()\n",
    "    tick_marks = np.arange(len(classes))\n",
    "    plt.xticks(tick_marks, classes, rotation=45)\n",
    "    plt.yticks(tick_marks, classes)\n",
    "    \n",
    "    if normalize:\n",
    "        cm = cm.astype('float') / cm.sum(axis=1)[:, np.newaxis]\n",
    "        print(\"Normalized confusion matrix\")\n",
    "    else:\n",
    "        print('Confusion matrix, without normalization')\n",
    "\n",
    "    print(cm)\n",
    "\n",
    "    thresh = cm.max() / 2.\n",
    "    for i, j in itertools.product(range(cm.shape[0]), range(cm.shape[1])):\n",
    "        plt.text(j, \n",
    "                 i, \n",
    "                 cm[i, j],\n",
    "                 horizontalalignment=\"center\",\n",
    "                 color=\"white\" if cm[i, j] > thresh else \"black\")\n",
    "\n",
    "    plt.tight_layout()\n",
    "    plt.ylabel('True label')\n",
    "    plt.xlabel('Predicted label')\n",
    "    \n",
    "def clf_predicts_and_eval(clf, X, y_true, classes=['0', '1']):\n",
    "    y_pred = clf.predict(X)\n",
    "    clf_eval(X, y_true, y_pred, classes=['0','1'])\n",
    "    \n",
    "def clf_eval(X, y_true, y_pred, classes=['0','1']):\n",
    "    clf_matrix = confusion_matrix(y_true, y_pred)\n",
    "    print('Classification Report')\n",
    "    print(classification_report(y_true, y_pred))\n",
    "    print('Accuracy Score: {}'.format(accuracy_score(y_true, y_pred)))\n",
    "    print('f1 Score: {}'.format(f1_score(y_true, y_pred, average='weighted')))\n",
    "    plot_confusion_matrix(clf_matrix, classes=classes)\n",
    "    \n",
    "    if len(classes) == 2:\n",
    "        print('ROC Score: {}'.format(roc_auc_score(y_true, y_pred)))\n",
    "        print('Average Precision Score: {}'.format(average_precision_score(y_true, y_pred)))"
   ]
  },
  {
   "cell_type": "markdown",
   "metadata": {},
   "source": [
    "### Treinando o modelo de classificação usando vetores Word2Vec"
   ]
  },
  {
   "cell_type": "markdown",
   "metadata": {},
   "source": [
    "#### Random Forest"
   ]
  },
  {
   "cell_type": "code",
   "execution_count": 161,
   "metadata": {},
   "outputs": [
    {
     "name": "stdout",
     "output_type": "stream",
     "text": [
      "Tempo levado para fitar o modelo a partir dos vetores word2vec: 0.9227662086486816\n"
     ]
    }
   ],
   "source": [
    "from sklearn.ensemble import RandomForestClassifier, VotingClassifier\n",
    "\n",
    "# carregando do arquivo\n",
    "df_word2vec_train = pd.read_csv(word2vec_filename)\n",
    "\n",
    "# inicializando o modelo\n",
    "clf_rf_word2vec = RandomForestClassifier(criterion='entropy')\n",
    "\n",
    "start_time = time.time()\n",
    "\n",
    "# fitando o modelo\n",
    "clf_rf_word2vec.fit(df_word2vec_train, \n",
    "                    Y_train['resultado_num'])\n",
    "print(\"Tempo levado para fitar o modelo a partir dos vetores word2vec: \" + str(time.time() - start_time))"
   ]
  },
  {
   "cell_type": "code",
   "execution_count": 160,
   "metadata": {},
   "outputs": [
    {
     "name": "stdout",
     "output_type": "stream",
     "text": [
      "Classification Report\n",
      "              precision    recall  f1-score   support\n",
      "\n",
      "         0.0       0.79      0.82      0.81       204\n",
      "         1.0       0.81      0.78      0.79       197\n",
      "\n",
      "    accuracy                           0.80       401\n",
      "   macro avg       0.80      0.80      0.80       401\n",
      "weighted avg       0.80      0.80      0.80       401\n",
      "\n",
      "Accuracy Score: 0.800498753117207\n",
      "f1 Score: 0.8003496639032153\n",
      "Normalized confusion matrix\n",
      "[[0.82352941 0.17647059]\n",
      " [0.22335025 0.77664975]]\n",
      "ROC Score: 0.8000895789787996\n",
      "Average Precision Score: 0.738442146989307\n"
     ]
    },
    {
     "data": {
      "image/png": "[encoded data removed]",
      "text/plain": [
       "<Figure size 432x288 with 2 Axes>"
      ]
     },
     "metadata": {
      "needs_background": "light"
     },
     "output_type": "display_data"
    }
   ],
   "source": [
    "clf_predicts_and_eval(clf_rf_word2vec,\n",
    "                     word2vec_test, \n",
    "                     Y_test['resultado_num'])"
   ]
  },
  {
   "cell_type": "markdown",
   "metadata": {},
   "source": [
    "#### GaussianNB"
   ]
  },
  {
   "cell_type": "code",
   "execution_count": 165,
   "metadata": {},
   "outputs": [
    {
     "name": "stdout",
     "output_type": "stream",
     "text": [
      "Classification Report\n",
      "              precision    recall  f1-score   support\n",
      "\n",
      "         0.0       0.73      0.79      0.76       204\n",
      "         1.0       0.76      0.69      0.72       197\n",
      "\n",
      "    accuracy                           0.74       401\n",
      "   macro avg       0.74      0.74      0.74       401\n",
      "weighted avg       0.74      0.74      0.74       401\n",
      "\n",
      "Accuracy Score: 0.7406483790523691\n",
      "f1 Score: 0.7399197541058952\n",
      "Normalized confusion matrix\n",
      "[[0.78921569 0.21078431]\n",
      " [0.30964467 0.69035533]]\n",
      "ROC Score: 0.739785508111874\n",
      "Average Precision Score: 0.6766354821620764\n"
     ]
    },
    {
     "data": {
      "image/png": "[encoded data removed]",
      "text/plain": [
       "<Figure size 432x288 with 2 Axes>"
      ]
     },
     "metadata": {
      "needs_background": "light"
     },
     "output_type": "display_data"
    }
   ],
   "source": [
    "from sklearn.naive_bayes import GaussianNB\n",
    "\n",
    "clf_gnb = GaussianNB().fit(df_word2vec_train, Y_train['resultado_num'])\n",
    "\n",
    "roc_gnb = clf_predicts_and_eval(clf_gnb, \n",
    "                                word2vec_test, \n",
    "                                Y_test['resultado_num'])"
   ]
  },
  {
   "cell_type": "markdown",
   "metadata": {},
   "source": [
    "## Training CNN Model"
   ]
  },
  {
   "cell_type": "code",
   "execution_count": 139,
   "metadata": {},
   "outputs": [],
   "source": [
    "from tensorflow.keras.models import Sequential\n",
    "from tensorflow.keras.layers import Dense, Dropout, Conv1D, MaxPool1D, Flatten"
   ]
  },
  {
   "cell_type": "code",
   "execution_count": 35,
   "metadata": {},
   "outputs": [
    {
     "data": {
      "text/plain": [
       "(933, 300)"
      ]
     },
     "execution_count": 35,
     "metadata": {},
     "output_type": "execute_result"
    }
   ],
   "source": [
    "word2vec_df.shape"
   ]
  },
  {
   "cell_type": "code",
   "execution_count": 140,
   "metadata": {},
   "outputs": [],
   "source": [
    "import tensorflow as tf\n",
    "from keras.layers import Dense, Conv1D, Flatten, MaxPooling1D\n",
    "\n",
    "X_train_kr = df_word2vec_train.astype('float32')\n",
    "X_test_kr = pd.DataFrame(word2vec_test)#.astype('float32')\n",
    "y_train_kr = Y_train['resultado_num'].values\n",
    "y_test_kr = Y_test['resultado_num'].values"
   ]
  },
  {
   "cell_type": "code",
   "execution_count": 141,
   "metadata": {},
   "outputs": [],
   "source": [
    "X_train_kr = X_train_kr.values.reshape(X_train_kr.shape[0], X_train_kr.shape[1], 1)\n",
    "X_test_kr = X_test_kr.values.reshape(X_test_kr.shape[0], X_test_kr.shape[1], 1)"
   ]
  },
  {
   "cell_type": "code",
   "execution_count": 203,
   "metadata": {},
   "outputs": [
    {
     "name": "stdout",
     "output_type": "stream",
     "text": [
      "Model: \"sequential_15\"\n",
      "_________________________________________________________________\n",
      " Layer (type)                Output Shape              Param #   \n",
      "=================================================================\n",
      " conv1d_17 (Conv1D)          (None, 298, 64)           256       \n",
      "                                                                 \n",
      " dense_26 (Dense)            (None, 298, 16)           1040      \n",
      "                                                                 \n",
      " max_pooling1d_13 (MaxPoolin  (None, 149, 16)          0         \n",
      " g1D)                                                            \n",
      "                                                                 \n",
      " flatten_13 (Flatten)        (None, 2384)              0         \n",
      "                                                                 \n",
      " dense_27 (Dense)            (None, 2)                 4770      \n",
      "                                                                 \n",
      "=================================================================\n",
      "Total params: 6,066\n",
      "Trainable params: 6,066\n",
      "Non-trainable params: 0\n",
      "_________________________________________________________________\n"
     ]
    }
   ],
   "source": [
    "model = Sequential()\n",
    "model.add(Conv1D(filters=64, kernel_size=3, activation=\"relu\", input_shape=(300,1)))\n",
    "# mudar formato do input\n",
    "model.add(Dense(16, activation=\"relu\"))\n",
    "model.add(MaxPooling1D())\n",
    "model.add(Flatten())\n",
    "model.add(Dense(2, activation = 'sigmoid'))\n",
    "model.compile(loss = 'sparse_categorical_crossentropy',\n",
    "              optimizer = \"adam\",               \n",
    "              metrics = ['accuracy'])\n",
    "model.summary()"
   ]
  },
  {
   "cell_type": "code",
   "execution_count": 193,
   "metadata": {},
   "outputs": [],
   "source": [
    "history = model.fit(X_train_kr, \n",
    "                    y_train_kr, \n",
    "                    batch_size=16, \n",
    "                    epochs=200, \n",
    "                    verbose=0, \n",
    "                    validation_data=(X_test_kr, y_test_kr))"
   ]
  },
  {
   "cell_type": "code",
   "execution_count": 194,
   "metadata": {},
   "outputs": [
    {
     "name": "stdout",
     "output_type": "stream",
     "text": [
      "Test loss: 0.5804023146629333\n",
      "Test accuracy: 0.7880299091339111\n"
     ]
    }
   ],
   "source": [
    "score = model.evaluate(X_test_kr, y_test_kr, verbose=0)\n",
    "print('Test loss:', score[0])\n",
    "print('Test accuracy:', score[1])"
   ]
  },
  {
   "cell_type": "code",
   "execution_count": 195,
   "metadata": {},
   "outputs": [
    {
     "name": "stdout",
     "output_type": "stream",
     "text": [
      "Classification Report\n",
      "              precision    recall  f1-score   support\n",
      "\n",
      "         0.0       0.81      0.75      0.78       204\n",
      "         1.0       0.76      0.82      0.79       197\n",
      "\n",
      "    accuracy                           0.79       401\n",
      "   macro avg       0.79      0.79      0.79       401\n",
      "weighted avg       0.79      0.79      0.79       401\n",
      "\n",
      "Accuracy Score: 0.7880299251870324\n",
      "f1 Score: 0.7878716765636441\n",
      "Normalized confusion matrix\n",
      "[[0.75490196 0.24509804]\n",
      " [0.17766497 0.82233503]]\n",
      "ROC Score: 0.7886184930825122\n",
      "Average Precision Score: 0.7156698809436518\n"
     ]
    },
    {
     "data": {
      "image/png": "[encoded data removed]",
      "text/plain": [
       "<Figure size 432x288 with 2 Axes>"
      ]
     },
     "metadata": {
      "needs_background": "light"
     },
     "output_type": "display_data"
    }
   ],
   "source": [
    "pred = model.predict(X_test_kr)\n",
    "y_pred_kr = pred.argmax(axis=-1)\n",
    "\n",
    "clf_eval(X_test_kr, \n",
    "         y_test_kr, \n",
    "         y_pred_kr, \n",
    "         classes = ['Desfavorável', 'Favorável'])"
   ]
  },
  {
   "cell_type": "code",
   "execution_count": 196,
   "metadata": {},
   "outputs": [
    {
     "data": {
      "image/png": "[encoded data removed]",
      "text/plain": [
       "<Figure size 864x576 with 1 Axes>"
      ]
     },
     "metadata": {
      "needs_background": "light"
     },
     "output_type": "display_data"
    }
   ],
   "source": [
    "# summarize history for loss\n",
    "plt.figure(figsize=(12,8))\n",
    "plt.plot(history.history['loss'])\n",
    "plt.plot(history.history['val_loss'])\n",
    "plt.title('model loss')\n",
    "plt.ylim(0,1)\n",
    "plt.ylabel('loss')\n",
    "plt.xlabel('epoch')\n",
    "plt.legend(['train', 'test'], loc='upper left')\n",
    "plt.show()"
   ]
  },
  {
   "cell_type": "code",
   "execution_count": 197,
   "metadata": {},
   "outputs": [
    {
     "data": {
      "image/png": "[encoded data removed]",
      "text/plain": [
       "<Figure size 864x576 with 1 Axes>"
      ]
     },
     "metadata": {
      "needs_background": "light"
     },
     "output_type": "display_data"
    }
   ],
   "source": [
    "# summarize history for accuracy\n",
    "plt.figure(figsize=(12,8))\n",
    "plt.plot(history.history['accuracy'])\n",
    "plt.plot(history.history['val_accuracy'])\n",
    "plt.title('model accuracy')\n",
    "plt.ylabel('accuracy')\n",
    "plt.xlabel('epoch')\n",
    "plt.ylim(0,1)\n",
    "plt.legend(['train', 'test'], loc='upper left')\n",
    "plt.show()"
   ]
  },
  {
   "cell_type": "markdown",
   "metadata": {},
   "source": [
    "Rodando novamente a rede, alterando o número de épocas:"
   ]
  },
  {
   "cell_type": "code",
   "execution_count": 198,
   "metadata": {},
   "outputs": [
    {
     "data": {
      "text/plain": [
       "49"
      ]
     },
     "execution_count": 198,
     "metadata": {},
     "output_type": "execute_result"
    }
   ],
   "source": [
    "min_loss = min(history.history['val_loss'])#[25]\n",
    "history.history['val_loss'].index(min_loss)"
   ]
  },
  {
   "cell_type": "code",
   "execution_count": 199,
   "metadata": {},
   "outputs": [],
   "source": [
    "history = model.fit(X_train_kr, \n",
    "                    y_train_kr, \n",
    "                    batch_size=16, \n",
    "                    epochs=49, \n",
    "                    verbose=0, \n",
    "                    validation_data=(X_test_kr, y_test_kr))"
   ]
  },
  {
   "cell_type": "code",
   "execution_count": 200,
   "metadata": {},
   "outputs": [
    {
     "name": "stdout",
     "output_type": "stream",
     "text": [
      "Test loss: 0.6192938089370728\n",
      "Test accuracy: 0.7855361700057983\n"
     ]
    }
   ],
   "source": [
    "score = model.evaluate(X_test_kr, y_test_kr, verbose=0)\n",
    "print('Test loss:', score[0])\n",
    "print('Test accuracy:', score[1])"
   ]
  },
  {
   "cell_type": "code",
   "execution_count": 201,
   "metadata": {},
   "outputs": [
    {
     "name": "stdout",
     "output_type": "stream",
     "text": [
      "Classification Report\n",
      "              precision    recall  f1-score   support\n",
      "\n",
      "         0.0       0.76      0.84      0.80       204\n",
      "         1.0       0.82      0.73      0.77       197\n",
      "\n",
      "    accuracy                           0.79       401\n",
      "   macro avg       0.79      0.78      0.78       401\n",
      "weighted avg       0.79      0.79      0.78       401\n",
      "\n",
      "Accuracy Score: 0.7855361596009975\n",
      "f1 Score: 0.7846807711903038\n",
      "Normalized confusion matrix\n",
      "[[0.84313725 0.15686275]\n",
      " [0.27411168 0.72588832]]\n",
      "ROC Score: 0.7845127898875285\n",
      "Average Precision Score: 0.7278178013993298\n"
     ]
    },
    {
     "data": {
      "image/png": "[encoded data removed]",
      "text/plain": [
       "<Figure size 432x288 with 2 Axes>"
      ]
     },
     "metadata": {
      "needs_background": "light"
     },
     "output_type": "display_data"
    }
   ],
   "source": [
    "pred = model.predict(X_test_kr)\n",
    "y_pred_kr = pred.argmax(axis=-1)\n",
    "\n",
    "clf_eval(X_test_kr, \n",
    "         y_test_kr, \n",
    "         y_pred_kr, \n",
    "         classes = ['Desfavorável', 'Favorável'])"
   ]
  },
  {
   "cell_type": "code",
   "execution_count": null,
   "metadata": {},
   "outputs": [],
   "source": []
  }
 ],
 "metadata": {
  "kernelspec": {
   "display_name": "Python 3",
   "language": "python",
   "name": "python3"
  },
  "language_info": {
   "codemirror_mode": {
    "name": "ipython",
    "version": 3
   },
   "file_extension": ".py",
   "mimetype": "text/x-python",
   "name": "python",
   "nbconvert_exporter": "python",
   "pygments_lexer": "ipython3",
   "version": "3.8.10"
  }
 },
 "nbformat": 4,
 "nbformat_minor": 4
}
