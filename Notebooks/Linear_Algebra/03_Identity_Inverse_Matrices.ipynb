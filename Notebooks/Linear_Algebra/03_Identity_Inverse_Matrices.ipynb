{
 "cells": [
  {
   "cell_type": "markdown",
   "metadata": {},
   "source": [
    "<h1 style=\"color:rgb(0,120,170)\">Neural Networks and Deep Learning</h1>\n",
    "<h2 style=\"color:rgb(0,120,170)\">Linear Algebra Basics</h2>\n",
    "\n",
    "[Source](https://hadrienj.github.io/posts/Deep-Learning-Book-Series-Introduction/)     \n",
    "[Github](https://github.com/hadrienj/deepLearningBook-Notes)"
   ]
  },
  {
   "cell_type": "code",
   "execution_count": 1,
   "metadata": {},
   "outputs": [],
   "source": [
    "import numpy as np\n",
    "import matplotlib.pyplot as plt\n",
    "import seaborn as sns"
   ]
  },
  {
   "cell_type": "code",
   "execution_count": 2,
   "metadata": {},
   "outputs": [
    {
     "ename": "NameError",
     "evalue": "name 'pylab' is not defined",
     "output_type": "error",
     "traceback": [
      "\u001b[0;31m---------------------------------------------------------------------------\u001b[0m",
      "\u001b[0;31mNameError\u001b[0m                                 Traceback (most recent call last)",
      "Input \u001b[0;32mIn [2]\u001b[0m, in \u001b[0;36m<cell line: 4>\u001b[0;34m()\u001b[0m\n\u001b[1;32m      2\u001b[0m get_ipython()\u001b[38;5;241m.\u001b[39mrun_line_magic(\u001b[38;5;124m'\u001b[39m\u001b[38;5;124mmatplotlib\u001b[39m\u001b[38;5;124m'\u001b[39m, \u001b[38;5;124m'\u001b[39m\u001b[38;5;124minline\u001b[39m\u001b[38;5;124m'\u001b[39m)\n\u001b[1;32m      3\u001b[0m sns\u001b[38;5;241m.\u001b[39mset()\n\u001b[0;32m----> 4\u001b[0m pylab\u001b[38;5;241m.\u001b[39mrcParams[\u001b[38;5;124m'\u001b[39m\u001b[38;5;124mfigure.figsize\u001b[39m\u001b[38;5;124m'\u001b[39m] \u001b[38;5;241m=\u001b[39m (\u001b[38;5;241m4\u001b[39m, \u001b[38;5;241m4\u001b[39m)\n",
      "\u001b[0;31mNameError\u001b[0m: name 'pylab' is not defined"
     ]
    }
   ],
   "source": [
    "# Plot parameters\n",
    "%matplotlib inline\n",
    "sns.set()\n",
    "pylab.rcParams['figure.figsize'] = (4, 4)"
   ]
  },
  {
   "cell_type": "code",
   "execution_count": null,
   "metadata": {},
   "outputs": [],
   "source": [
    "# Avoid inaccurate floating values (for inverse matrices in dot product for instance)\n",
    "# See https://stackoverflow.com/questions/24537791/numpy-matrix-inversion-rounding-errors\n",
    "np.set_printoptions(suppress=True)"
   ]
  },
  {
   "cell_type": "code",
   "execution_count": null,
   "metadata": {},
   "outputs": [],
   "source": [
    "%%html\n",
    "<style>\n",
    ".pquote {\n",
    "  text-align: left;\n",
    "  margin: 40px 0 40px auto;\n",
    "  width: 70%;\n",
    "  font-size: 1.5em;\n",
    "  font-style: italic;\n",
    "  display: block;\n",
    "  line-height: 1.3em;\n",
    "  color: #5a75a7;\n",
    "  font-weight: 600;\n",
    "  border-left: 5px solid rgba(90, 117, 167, .1);\n",
    "  padding-left: 6px;\n",
    "}\n",
    ".notes {\n",
    "  font-style: italic;\n",
    "  display: block;\n",
    "  margin: 40px 10%;\n",
    "}\n",
    "img + em {\n",
    "  text-align: center;\n",
    "  display: block;\n",
    "  color: gray;\n",
    "  font-size: 0.9em;\n",
    "  font-weight: 600;\n",
    "}\n",
    "</style>"
   ]
  },
  {
   "cell_type": "markdown",
   "metadata": {},
   "source": [
    "$$\n",
    "\\newcommand\\bs[1]{\\boldsymbol{#1}}\n",
    "$$"
   ]
  },
  {
   "cell_type": "markdown",
   "metadata": {},
   "source": [
    "<span class='notes'>\n",
    "    This content is part of a series following the chapter 2 on linear algebra from the [Deep Learning Book](http://www.deeplearningbook.org/) by Goodfellow, I., Bengio, Y., and Courville, A. (2016). It aims to provide intuitions/drawings/python code on mathematical theories and is constructed as my understanding of these concepts. You can check the syllabus in the [introduction post](https://hadrienj.github.io/posts/Deep-Learning-Book-Series-Introduction/).\n",
    "</span>"
   ]
  },
  {
   "cell_type": "markdown",
   "metadata": {},
   "source": [
    "# Introduction\n",
    "\n",
    "This chapter is light but contains some important definitions. The identity matrix or the inverse of a matrix are concepts that will be very useful in the next chapters. We will see at the end of this chapter that we can solve systems of linear equations by using the inverse matrix. So hang on!"
   ]
  },
  {
   "cell_type": "markdown",
   "metadata": {},
   "source": [
    "# 2.3 Identity and Inverse Matrices\n",
    "\n",
    "\n",
    "# Identity matrices\n",
    "\n",
    "The identity matrix $\\bs{I}_n$ is a special matrix of shape ($n \\times n$) that is filled with $0$ except the diagonal that is filled with 1.\n",
    "\n",
    "<img src=\"images/identity-matrix.png\" width=\"150\" alt=\"Example of an identity matrix\" title=\"Identity matrix\">\n",
    "<em>A 3 by 3 identity matrix</em>"
   ]
  },
  {
   "cell_type": "markdown",
   "metadata": {},
   "source": [
    "An identity matrix can be created with the Numpy function `eye()`:"
   ]
  },
  {
   "cell_type": "code",
   "execution_count": null,
   "metadata": {},
   "outputs": [],
   "source": [
    "np.eye(3)"
   ]
  },
  {
   "cell_type": "markdown",
   "metadata": {},
   "source": [
    "When 'apply' the identity matrix to a vector the result is this same vector:\n",
    "\n",
    "$$\\bs{I}_n\\bs{x} = \\bs{x}$$\n",
    "\n",
    "### Example 1.\n",
    "\n",
    "$$\n",
    "\\begin{bmatrix}\n",
    "    1 & 0 & 0 \\\\\\\\\n",
    "    0 & 1 & 0 \\\\\\\\\n",
    "    0 & 0 & 1\n",
    "\\end{bmatrix}\n",
    "\\times\n",
    "\\begin{bmatrix}\n",
    "    x_{1} \\\\\\\\\n",
    "    x_{2} \\\\\\\\\n",
    "    x_{3}\n",
    "\\end{bmatrix}=\n",
    "\\begin{bmatrix}\n",
    "    1 \\times x_1 + 0 \\times x_2 + 0\\times x_3 \\\\\\\\\n",
    "    0 \\times x_1 + 1 \\times x_2 + 0\\times x_3 \\\\\\\\\n",
    "    0 \\times x_1 + 0 \\times x_2 + 1\\times x_3\n",
    "\\end{bmatrix}=\n",
    "\\begin{bmatrix}\n",
    "    x_{1} \\\\\\\\\n",
    "    x_{2} \\\\\\\\\n",
    "    x_{3}\n",
    "\\end{bmatrix}\n",
    "$$"
   ]
  },
  {
   "cell_type": "code",
   "execution_count": null,
   "metadata": {},
   "outputs": [],
   "source": [
    "x = np.array([[2], [6], [3]])\n",
    "x"
   ]
  },
  {
   "cell_type": "code",
   "execution_count": null,
   "metadata": {},
   "outputs": [],
   "source": [
    "xid = np.eye(x.shape[0]).dot(x)\n",
    "xid"
   ]
  },
  {
   "cell_type": "markdown",
   "metadata": {},
   "source": [
    "## Intuition\n",
    "\n",
    "You can think of a matrix as a way to transform objects in a $n$-dimensional space. It applies a linear transformation of the space. We can say that we *apply* a matrix to an element: this means that we do the dot product between this matrix and the element (more details about the dot product in [2.2](https://hadrienj.github.io/posts/Deep-Learning-Book-Series-2.2-Multiplying-Matrices-and-Vectors/)). We will see this notion thoroughly in the next chapters but the identity matrix is a good first example. It is a particular example because the space doesn't change when we *apply* the identity matrix to it.\n",
    "\n",
    "<span class='pquote'>\n",
    "    The space doesn't change when we *apply* the identity matrix to it\n",
    "</span>\n",
    "\n",
    "We saw that $\\bs{x}$ was not altered after being multiplied by $\\bs{I}$."
   ]
  },
  {
   "cell_type": "markdown",
   "metadata": {},
   "source": [
    "# Inverse Matrices\n",
    "\n",
    "The matrix inverse of $\\bs{A}$ is denoted $\\bs{A}^{-1}$. It is the matrix that results in the identity matrix when it is multiplied by $\\bs{A}$:\n",
    "\n",
    "$$\\bs{A}^{-1}\\bs{A}=\\bs{I}_n$$\n",
    "\n",
    "This means that if we apply a linear transformation to the space with $\\bs{A}$, it is possible to go back with $\\bs{A}^{-1}$. It provides a way to cancel the transformation.\n",
    "\n",
    "### Example 2.\n",
    "\n",
    "$$\n",
    "\\bs{A}=\\begin{bmatrix}\n",
    "    3 & 0 & 2 \\\\\\\\\n",
    "    2 & 0 & -2 \\\\\\\\\n",
    "    0 & 1 & 1\n",
    "\\end{bmatrix}\n",
    "$$\n",
    "\n",
    "For this example, we will use the Numpy function `linalg.inv()` to calculate the inverse of $\\bs{A}$. Let's start by creating $\\bs{A}$:"
   ]
  },
  {
   "cell_type": "code",
   "execution_count": null,
   "metadata": {},
   "outputs": [],
   "source": [
    "A = np.array([[3, 0, 2], [2, 0, -2], [0, 1, 1]])\n",
    "A"
   ]
  },
  {
   "cell_type": "markdown",
   "metadata": {},
   "source": [
    "Now we calculate its inverse:"
   ]
  },
  {
   "cell_type": "code",
   "execution_count": null,
   "metadata": {},
   "outputs": [],
   "source": [
    "A_inv = np.linalg.inv(A)\n",
    "A_inv"
   ]
  },
  {
   "cell_type": "markdown",
   "metadata": {},
   "source": [
    "We can check that $\\bs{A_{inv}}$ is well the inverse of $\\bs{A}$ with Python:"
   ]
  },
  {
   "cell_type": "code",
   "execution_count": null,
   "metadata": {},
   "outputs": [],
   "source": [
    "A_bis = A_inv.dot(A)\n",
    "A_bis"
   ]
  },
  {
   "cell_type": "markdown",
   "metadata": {},
   "source": [
    "We will see that inverse of matrices can be very usefull, for instance to solve a set of linear equations. We must note however that non square matrices (matrices with more columns than rows or more rows than columns) don't have inverse."
   ]
  },
  {
   "cell_type": "markdown",
   "metadata": {},
   "source": [
    "# Solving a system of linear equations\n",
    "\n",
    "An introduction on system of linear equations can be found in [2.2](https://hadrienj.github.io/posts/Deep-Learning-Book-Series-2.2-Multiplying-Matrices-and-Vectors/).\n",
    "\n",
    "The inverse matrix can be used to solve the equation $\\bs{Ax}=\\bs{b}$ by adding it to each term:\n",
    "\n",
    "$$\\bs{A}^{-1}\\bs{Ax}=\\bs{A}^{-1}\\bs{b}$$\n",
    "\n",
    "Since we know by definition that $\\bs{A}^{-1}\\bs{A}=\\bs{I}$, we have:\n",
    "\n",
    "$$\\bs{I}_n\\bs{x}=\\bs{A}^{-1}\\bs{b}$$\n",
    "\n",
    "We saw that a vector is not changed when multiplied by the identity matrix. So we can write:\n",
    "\n",
    "$$\\bs{x}=\\bs{A}^{-1}\\bs{b}$$\n",
    "\n",
    "This is great! We can solve a set of linear equation just by computing the inverse of $\\bs{A}$ and apply this matrix to the vector of results $\\bs{b}$!\n",
    "\n",
    "Let's try that!"
   ]
  },
  {
   "cell_type": "markdown",
   "metadata": {},
   "source": [
    "### Example 3.\n",
    "\n",
    "We will take a simple solvable example:\n",
    "\n",
    "$$\n",
    "\\begin{cases}\n",
    "y = 2x \\\\\\\\\n",
    "y = -x +3\n",
    "\\end{cases}\n",
    "$$\n",
    "\n",
    "We will use the notation that we saw in [2.2](https://hadrienj.github.io/posts/Deep-Learning-Book-Series-2.2-Multiplying-Matrices-and-Vectors/):\n",
    "\n",
    "$$\n",
    "\\begin{cases}\n",
    "A_{1,1}x_1 + A_{1,2}x_2 = b_1 \\\\\\\\\n",
    "A_{2,1}x_1 + A_{2,2}x_2= b_2\n",
    "\\end{cases}\n",
    "$$\n",
    "\n",
    "Here, $x_1$ corresponds to $x$ and $x_2$ corresponds to $y$. So we have:\n",
    "\n",
    "$$\n",
    "\\begin{cases}\n",
    "2x_1 - x_2 = 0 \\\\\\\\\n",
    "x_1 + x_2= 3\n",
    "\\end{cases}\n",
    "$$\n",
    "\n",
    "Our matrix $\\bs{A}$ of weights is:\n",
    "\n",
    "$$\n",
    "\\bs{A}=\n",
    "\\begin{bmatrix}\n",
    "    2 & -1 \\\\\\\\\n",
    "    1 & 1\n",
    "\\end{bmatrix}\n",
    "$$\n",
    "\n",
    "And the vector $\\bs{b}$ containing the solutions of individual equations is:\n",
    "\n",
    "$$\n",
    "\\bs{b}=\n",
    "\\begin{bmatrix}\n",
    "    0 \\\\\\\\\n",
    "    3\n",
    "\\end{bmatrix}\n",
    "$$\n",
    "\n",
    "Under the matrix form, our systems becomes:\n",
    "\n",
    "$$\n",
    "\\begin{bmatrix}\n",
    "    2 & -1 \\\\\\\\\n",
    "    1 & 1\n",
    "\\end{bmatrix}\n",
    "\\begin{bmatrix}\n",
    "    x_1 \\\\\\\\\n",
    "    x_2\n",
    "\\end{bmatrix}=\n",
    "\\begin{bmatrix}\n",
    "    0 \\\\\\\\\n",
    "    3\n",
    "\\end{bmatrix}\n",
    "$$\n",
    "\n",
    "Let's find the inverse of $\\bs{A}$:"
   ]
  },
  {
   "cell_type": "code",
   "execution_count": null,
   "metadata": {},
   "outputs": [],
   "source": [
    "A = np.array([[2, -1], [1, 1]])\n",
    "A"
   ]
  },
  {
   "cell_type": "code",
   "execution_count": null,
   "metadata": {},
   "outputs": [],
   "source": [
    "A_inv = np.linalg.inv(A)\n",
    "A_inv"
   ]
  },
  {
   "cell_type": "markdown",
   "metadata": {},
   "source": [
    "We have also:"
   ]
  },
  {
   "cell_type": "code",
   "execution_count": null,
   "metadata": {},
   "outputs": [],
   "source": [
    "b = np.array([[0], [3]])"
   ]
  },
  {
   "cell_type": "markdown",
   "metadata": {},
   "source": [
    "Since we saw that\n",
    "\n",
    "$$\\bs{x}=\\bs{A}^{-1}\\bs{b}$$\n",
    "\n",
    "We have:"
   ]
  },
  {
   "cell_type": "code",
   "execution_count": null,
   "metadata": {},
   "outputs": [],
   "source": [
    "x = A_inv.dot(b)\n",
    "x"
   ]
  },
  {
   "cell_type": "markdown",
   "metadata": {},
   "source": [
    "This is our solution! \n",
    "\n",
    "$$\n",
    "\\bs{x}=\n",
    "\\begin{bmatrix}\n",
    "    1 \\\\\\\\\n",
    "    2\n",
    "\\end{bmatrix}\n",
    "$$\n",
    "\n",
    "This means that the point of coordinates (1, 2) is the solution and is at the intersection of the lines representing the equations. Let's plot them to check this solution:"
   ]
  },
  {
   "cell_type": "code",
   "execution_count": null,
   "metadata": {},
   "outputs": [],
   "source": [
    "x = np.arange(-10, 10)\n",
    "y = 2*x\n",
    "y1 = -x + 3\n",
    "\n",
    "plt.figure()\n",
    "plt.plot(x, y)\n",
    "plt.plot(x, y1)\n",
    "plt.xlim(0, 3)\n",
    "plt.ylim(0, 3)\n",
    "# draw axes\n",
    "plt.axvline(x=0, color='grey')\n",
    "plt.axhline(y=0, color='grey')\n",
    "plt.show()\n",
    "plt.close()"
   ]
  },
  {
   "cell_type": "markdown",
   "metadata": {},
   "source": [
    "We can see that the solution (corresponding to the line crossing) is when $x=1$ and $y=2$. It confirms what we found with the matrix inversion!"
   ]
  },
  {
   "cell_type": "markdown",
   "metadata": {},
   "source": [
    "## BONUS: Coding tip - Draw an equation\n",
    "\n",
    "To draw the equation with Matplotlib, we first need to create a vector with all the $x$ values. Actually, since this is a line, only two points would have been sufficient. But with more complex functions, the length of the vector $x$ corresponds to the sampling rate. So here we used the Numpy function `arrange()` (see the [doc](https://docs.scipy.org/doc/numpy/reference/generated/numpy.arange.html)) to create a vector from $-10$ to $10$ (not included)."
   ]
  },
  {
   "cell_type": "code",
   "execution_count": null,
   "metadata": {},
   "outputs": [],
   "source": [
    "np.arange(-10, 10)"
   ]
  },
  {
   "cell_type": "markdown",
   "metadata": {},
   "source": [
    "The first argument is the starting point and the second the ending point. You can add a third argument to specify the step:"
   ]
  },
  {
   "cell_type": "code",
   "execution_count": null,
   "metadata": {},
   "outputs": [],
   "source": [
    "np.arange(-10, 10, 2)"
   ]
  },
  {
   "cell_type": "markdown",
   "metadata": {},
   "source": [
    "Then we create a second vector $y$ that depends on the $x$ vector. Numpy will take each value of $x$ and apply the equation formula to it."
   ]
  },
  {
   "cell_type": "code",
   "execution_count": null,
   "metadata": {},
   "outputs": [],
   "source": [
    "x = np.arange(-10, 10)\n",
    "y = 2*x + 1\n",
    "y"
   ]
  },
  {
   "cell_type": "markdown",
   "metadata": {},
   "source": [
    "Finally, you just need to plot these vectors."
   ]
  },
  {
   "cell_type": "markdown",
   "metadata": {},
   "source": [
    "# Singular matrices\n",
    "\n",
    "Some matrices are not invertible. They are called **singular**."
   ]
  },
  {
   "cell_type": "markdown",
   "metadata": {},
   "source": [
    "# Conclusion\n",
    "\n",
    "This introduces different cases according to the linear system because $\\bs{A}^{-1}$ exists only if the equation $\\bs{Ax}=\\bs{b}$ has one and only one solution. [The next chapter](https://hadrienj.github.io/posts/Deep-Learning-Book-Series-2.4-Linear-Dependence-and-Span/) is almost all about systems of linear equations and number of solutions."
   ]
  }
 ],
 "metadata": {
  "kernelspec": {
   "display_name": "Python 3 (ipykernel)",
   "language": "python",
   "name": "python3"
  },
  "language_info": {
   "codemirror_mode": {
    "name": "ipython",
    "version": 3
   },
   "file_extension": ".py",
   "mimetype": "text/x-python",
   "name": "python",
   "nbconvert_exporter": "python",
   "pygments_lexer": "ipython3",
   "version": "3.8.10"
  }
 },
 "nbformat": 4,
 "nbformat_minor": 4
}
