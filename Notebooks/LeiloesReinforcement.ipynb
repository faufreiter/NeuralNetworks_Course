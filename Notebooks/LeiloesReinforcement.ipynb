{
 "cells": [
  {
   "cell_type": "code",
   "execution_count": 50,
   "id": "liable-amplifier",
   "metadata": {},
   "outputs": [],
   "source": [
    "import random\n",
    "import numpy as np\n",
    "import tensorflow as tf\n",
    "from tensorflow import keras\n",
    "from tensorflow.keras import layers\n",
    "import matplotlib.pyplot as plt\n",
    "import keras.backend as K"
   ]
  },
  {
   "cell_type": "markdown",
   "id": "prescription-nursery",
   "metadata": {},
   "source": [
    "# Experimentos com leilões usando modelo de redes neurais"
   ]
  },
  {
   "cell_type": "markdown",
   "id": "natural-affair",
   "metadata": {},
   "source": [
    "### Caso 1\n",
    "Temos dois jogadores (jogador \"a\" e jogador \"b\") usando a mesma estratégia (ou seja, usam o mesmo modelo de rede neural). Para cada jogador, atribuímos aleatoriamente valores de V (valor do leilão para o jogador) e B (lance dado - bid). O modelo recebe V e B e retorna U(V,B).\n",
    "O leilão é realizado com o valores Va,Ba e Vb, Bb, e calculamos o valor real de Ua e Ub. Por fim, a rede é atualizada com com o valores das utilidade após o leilão."
   ]
  },
  {
   "cell_type": "code",
   "execution_count": 51,
   "id": "personalized-conversation",
   "metadata": {},
   "outputs": [
    {
     "name": "stdout",
     "output_type": "stream",
     "text": [
      "Model: \"sequential_11\"\n",
      "_________________________________________________________________\n",
      "Layer (type)                 Output Shape              Param #   \n",
      "=================================================================\n",
      "dense_44 (Dense)             (None, 1, 5)              15        \n",
      "_________________________________________________________________\n",
      "dense_45 (Dense)             (None, 1, 10)             60        \n",
      "_________________________________________________________________\n",
      "dense_46 (Dense)             (None, 1, 5)              55        \n",
      "_________________________________________________________________\n",
      "dense_47 (Dense)             (None, 1, 1)              6         \n",
      "=================================================================\n",
      "Total params: 136\n",
      "Trainable params: 136\n",
      "Non-trainable params: 0\n",
      "_________________________________________________________________\n"
     ]
    }
   ],
   "source": [
    "# Modelo de igual para os dois jogadores, a entrada é o valor \n",
    "# percebido do leilão (Va ou Vb) e os lances (Ba ou Bb) e a saída é o Pay Off.\n",
    "\n",
    "model2 = tf.keras.Sequential([\n",
    "  tf.keras.layers.Dense(5, activation=tf.nn.relu, input_shape=(1,2)),  # input shape required\n",
    "  tf.keras.layers.Dense(10, activation=tf.nn.relu),\n",
    "  tf.keras.layers.Dense(5, activation=tf.nn.relu),\n",
    "  tf.keras.layers.Dense(1, activation=tf.nn.tanh)\n",
    "])\n",
    "\n",
    "model2.compile(loss='mean_squared_error', optimizer=\"Adam\", metrics=[\"mse\"])\n",
    "model2.summary()"
   ]
  },
  {
   "cell_type": "code",
   "execution_count": 52,
   "id": "simplified-assistant",
   "metadata": {},
   "outputs": [
    {
     "name": "stdout",
     "output_type": "stream",
     "text": [
      "WARNING:tensorflow:Model was constructed with shape (None, 1, 2) for input Tensor(\"dense_44_input:0\", shape=(None, 1, 2), dtype=float32), but it was called on an input with incompatible shape (None, 2).\n"
     ]
    },
    {
     "name": "stderr",
     "output_type": "stream",
     "text": [
      "WARNING:tensorflow:Model was constructed with shape (None, 1, 2) for input Tensor(\"dense_44_input:0\", shape=(None, 1, 2), dtype=float32), but it was called on an input with incompatible shape (None, 2).\n"
     ]
    },
    {
     "name": "stdout",
     "output_type": "stream",
     "text": [
      "WARNING:tensorflow:Model was constructed with shape (None, 1, 2) for input Tensor(\"dense_44_input:0\", shape=(None, 1, 2), dtype=float32), but it was called on an input with incompatible shape (None, 2).\n"
     ]
    },
    {
     "name": "stderr",
     "output_type": "stream",
     "text": [
      "WARNING:tensorflow:Model was constructed with shape (None, 1, 2) for input Tensor(\"dense_44_input:0\", shape=(None, 1, 2), dtype=float32), but it was called on an input with incompatible shape (None, 2).\n"
     ]
    },
    {
     "name": "stdout",
     "output_type": "stream",
     "text": [
      "WARNING:tensorflow:Model was constructed with shape (None, 1, 2) for input Tensor(\"dense_44_input:0\", shape=(None, 1, 2), dtype=float32), but it was called on an input with incompatible shape (None, 2).\n"
     ]
    },
    {
     "name": "stderr",
     "output_type": "stream",
     "text": [
      "WARNING:tensorflow:Model was constructed with shape (None, 1, 2) for input Tensor(\"dense_44_input:0\", shape=(None, 1, 2), dtype=float32), but it was called on an input with incompatible shape (None, 2).\n"
     ]
    }
   ],
   "source": [
    "# Iterando sobre todas as simulações\n",
    "\n",
    "for n in range(10000):\n",
    "    \n",
    "    # Valor e lance de Ana\n",
    "    inp_a = np.random.uniform(0,1,(1, 2))\n",
    "    Va = inp_a[0][0]\n",
    "    Ba = inp_a[0][1]\n",
    "    \n",
    "    # Valor e lance de Bruno\n",
    "    inp_b = np.random.uniform(0,1,(1, 2))\n",
    "    Vb = inp_b[0][0]\n",
    "    Bb = inp_b[0][1]\n",
    "    \n",
    "    \n",
    "    # Pay Off esperado para Ana e Bruno segundo o modelo\n",
    "    Pay_a = model2(inp_a)\n",
    "    Pay_b = model2(inp_b)\n",
    "    \n",
    "    # Verificando quem vence o leilão e atualizando o modelo\n",
    "    if Ba > Bb:\n",
    "        Actual_pay_a = np.array([[Va - Ba]])\n",
    "        model2.fit(inp_a, Actual_pay_a, verbose=0)\n",
    "        \n",
    "        Actual_pay_b = np.zeros(1)\n",
    "        model2.fit(inp_b, Actual_pay_b, verbose=0)\n",
    "    \n",
    "    else:\n",
    "        Actual_pay_a = np.zeros(1)\n",
    "        model2.fit(inp_a, Actual_pay_a, verbose=0)\n",
    "    \n",
    "        Actual_pay_b = np.array([[Vb - Bb]])\n",
    "        model2.fit(inp_b, Actual_pay_b, verbose=0)\n",
    "    "
   ]
  },
  {
   "cell_type": "code",
   "execution_count": 53,
   "id": "worst-weather",
   "metadata": {},
   "outputs": [
    {
     "data": {
      "text/plain": [
       "[<matplotlib.lines.Line2D at 0x21de9ff5388>]"
      ]
     },
     "execution_count": 53,
     "metadata": {},
     "output_type": "execute_result"
    },
    {
     "data": {
      "image/png": "[encoded data removed]",
      "text/plain": [
       "<Figure size 432x288 with 1 Axes>"
      ]
     },
     "metadata": {
      "needs_background": "light"
     },
     "output_type": "display_data"
    }
   ],
   "source": [
    "# Iterando sobre todos os valores de V e B para achar os maiores U(V,B).\n",
    "max_pay_value = []\n",
    "bid_max_value = []\n",
    "for V in np.arange(0.0, 1.0, 1/100):\n",
    "    max_pay = -1\n",
    "    max_bid = 0\n",
    "    for B in np.arange(0.0, 1.0, 1/100):\n",
    "        inp = np.array([[V, B]])\n",
    "        pay = model2(inp)\n",
    "        if pay > max_pay:\n",
    "            max_pay = pay\n",
    "            max_bid = B\n",
    "    max_pay_value.append(max_pay.numpy()[0][0])\n",
    "    bid_max_value.append(max_bid)\n",
    "#plt.plot(max_pay_value)\n",
    "plt.plot(bid_max_value)"
   ]
  },
  {
   "cell_type": "markdown",
   "id": "cellular-mongolia",
   "metadata": {},
   "source": [
    "### Caso 2\n",
    "No segundo caso, entramos com o valor V de cada jogador e a saída do modelo é a utilidade esperada. **(Mas acho que a modelagem não está correta)**"
   ]
  },
  {
   "cell_type": "code",
   "execution_count": 54,
   "id": "permanent-orleans",
   "metadata": {},
   "outputs": [
    {
     "name": "stdout",
     "output_type": "stream",
     "text": [
      "Model: \"sequential_12\"\n",
      "_________________________________________________________________\n",
      "Layer (type)                 Output Shape              Param #   \n",
      "=================================================================\n",
      "dense_48 (Dense)             (None, 5)                 10        \n",
      "_________________________________________________________________\n",
      "dense_49 (Dense)             (None, 10)                60        \n",
      "_________________________________________________________________\n",
      "dense_50 (Dense)             (None, 5)                 55        \n",
      "_________________________________________________________________\n",
      "dense_51 (Dense)             (None, 1)                 6         \n",
      "=================================================================\n",
      "Total params: 131\n",
      "Trainable params: 131\n",
      "Non-trainable params: 0\n",
      "_________________________________________________________________\n"
     ]
    }
   ],
   "source": [
    "# Modelo de igual para os dois jogadores, a entrada é o valor \n",
    "# percebido do leilão (Va e Vb) e a saída são os pay off (pay_a e pay_b).\n",
    "\n",
    "model = tf.keras.Sequential([\n",
    "  tf.keras.layers.Dense(5, activation=tf.nn.relu, input_shape=(1,)),  # input shape required\n",
    "  tf.keras.layers.Dense(10, activation=tf.nn.relu),\n",
    "  tf.keras.layers.Dense(5, activation=tf.nn.relu),\n",
    "  tf.keras.layers.Dense(1, activation=tf.nn.tanh)\n",
    "])\n",
    "\n",
    "model.compile(loss='mean_squared_error', optimizer=\"Adam\", metrics=[\"mse\"])\n",
    "model.summary()"
   ]
  },
  {
   "cell_type": "code",
   "execution_count": 55,
   "id": "selective-material",
   "metadata": {
    "scrolled": true
   },
   "outputs": [],
   "source": [
    "# Iterando sobre todas as simulações\n",
    "\n",
    "for n in range(10000):\n",
    "    \n",
    "    # Valor de Ana e Bruno\n",
    "    Va = np.random.uniform(0,1,1)\n",
    "    Vb = np.random.uniform(0,1,1)\n",
    "    \n",
    "    #Ba = model(Va)\n",
    "    #Bb = model(Vb)\n",
    "    \n",
    "    # Pay Off esperado para Ana e Bruno segundo o modelo\n",
    "    Pay_a = model(Va)\n",
    "    Pay_b = model(Vb)\n",
    "    \n",
    "    # Se pay off de Ana for menor do que zero, o lance da ana será zero. Senão será o valor menos o pay off.\n",
    "    if Pay_a < 0:\n",
    "        Ba = np.zeros(1)\n",
    "    else:\n",
    "        Ba = Va - Pay_a\n",
    "    # Se o valor menos o pay off for menor do que zero, seu lance será zero.\n",
    "    if Ba < 0:\n",
    "        Ba = 0\n",
    "    \n",
    "    # Se pay off de Bruno for menor do que zero, o lance da ana será zero. Senão será o valor menos o pay off.\n",
    "    if Pay_b < 0:\n",
    "        Bb = np.zeros(1)\n",
    "    else:\n",
    "        Bb = Vb - Pay_b\n",
    "    # Se o valor menos o pay off for menor do que zero, seu lance será zero\n",
    "    if Bb < 0:\n",
    "        Bb = 0\n",
    "    \n",
    "    # Leilão\n",
    "    if Ba == Bb:\n",
    "        pass\n",
    "    else:\n",
    "        if Ba > Bb:\n",
    "            # Atualizando o modelo com os dados de Ana\n",
    "            model.fit(Va, Va - Bb, verbose=0)\n",
    "            # Atualizando o modelo com os dados de Bruno\n",
    "            model.fit(Vb, np.zeros(1), verbose =0)\n",
    "        else:\n",
    "            # Atualizando o modelo com os dados de Ana\n",
    "            model.fit(Va, np.zeros(1), verbose=0)\n",
    "            # Atualizando o modelo com os dados de Bruno\n",
    "            model.fit(Vb, Vb - Ba, verbose =0)"
   ]
  },
  {
   "cell_type": "code",
   "execution_count": 56,
   "id": "limited-compromise",
   "metadata": {},
   "outputs": [
    {
     "data": {
      "text/plain": [
       "[<matplotlib.lines.Line2D at 0x21deb3b27c8>]"
      ]
     },
     "execution_count": 56,
     "metadata": {},
     "output_type": "execute_result"
    },
    {
     "data": {
      "image/png": "[encoded data removed]",
      "text/plain": [
       "<Figure size 432x288 with 1 Axes>"
      ]
     },
     "metadata": {
      "needs_background": "light"
     },
     "output_type": "display_data"
    }
   ],
   "source": [
    "#Valores = np.arange(0.0, 1.0, 1/100) - model(np.arange(0.0, 1.0, 1/100)).numpy().reshape(-1)\n",
    "#plt.plot(Valores)\n",
    "plt.plot(model(np.arange(0.0, 1.0, 1/100)))"
   ]
  },
  {
   "cell_type": "markdown",
   "id": "vertical-terrain",
   "metadata": {},
   "source": [
    "### Caso 3\n",
    "No terceiro caso, a entrada do modelo é o Valor do leilão e a saída é o Lance(bid). **(Neste caso a atulização do bid não está boa, provavelmente temos que usar a equação de Bellman para reinforcement learning)**"
   ]
  },
  {
   "cell_type": "markdown",
   "id": "pleasant-appraisal",
   "metadata": {},
   "source": [
    "Modelo 3 "
   ]
  },
  {
   "cell_type": "code",
   "execution_count": 57,
   "id": "everyday-tomorrow",
   "metadata": {},
   "outputs": [
    {
     "name": "stdout",
     "output_type": "stream",
     "text": [
      "Model: \"sequential_13\"\n",
      "_________________________________________________________________\n",
      "Layer (type)                 Output Shape              Param #   \n",
      "=================================================================\n",
      "dense_52 (Dense)             (None, 5)                 10        \n",
      "_________________________________________________________________\n",
      "dense_53 (Dense)             (None, 10)                60        \n",
      "_________________________________________________________________\n",
      "dense_54 (Dense)             (None, 5)                 55        \n",
      "_________________________________________________________________\n",
      "dense_55 (Dense)             (None, 1)                 6         \n",
      "=================================================================\n",
      "Total params: 131\n",
      "Trainable params: 131\n",
      "Non-trainable params: 0\n",
      "_________________________________________________________________\n"
     ]
    }
   ],
   "source": [
    "# Modelo de igual para os dois jogadores, a entrada é o valor \n",
    "# percebido do leilão (Va e Vb) e a saída são os lances (ba e bb).\n",
    "\n",
    "model3 = tf.keras.Sequential([\n",
    "  tf.keras.layers.Dense(5, activation=tf.nn.relu, input_shape=(1,)),  # input shape required\n",
    "  tf.keras.layers.Dense(10, activation=tf.nn.relu),\n",
    "  tf.keras.layers.Dense(5, activation=tf.nn.relu),\n",
    "  tf.keras.layers.Dense(1, activation=tf.nn.sigmoid)\n",
    "])\n",
    "\n",
    "model3.compile(loss='mean_squared_error', optimizer=\"Adam\", metrics=[\"mse\"])\n",
    "model3.summary()"
   ]
  },
  {
   "cell_type": "code",
   "execution_count": 58,
   "id": "harmful-theorem",
   "metadata": {
    "scrolled": true
   },
   "outputs": [],
   "source": [
    "for n in range(10000):\n",
    "\n",
    "    # Valor de Ana e Bruno\n",
    "    Va = np.random.uniform(0,1,1)\n",
    "    Vb = np.random.uniform(0,1,1)\n",
    "\n",
    "    Ba = model3(Va)\n",
    "    Bb = model3(Vb)\n",
    "    #Bmedio = (Ba + Bb)/2\n",
    "\n",
    "    if Ba > Bb:\n",
    "        Pay_a = Va - Ba\n",
    "        Pay_b = np.zeros(1)\n",
    "        actual_Ba = Ba*(1 - (Ba - Bb)/10)\n",
    "        actual_Bb = Bb*(1 + (Vb - Bb)/10)\n",
    "        \n",
    "    else:\n",
    "        Pay_a = np.zeros(1)\n",
    "        Pay_b = Vb - Bb\n",
    "        actual_Bb = Bb*(1 - (Bb - Ba)/10)\n",
    "        actual_Ba = Ba*(1 + (Va - Ba)/10)\n",
    "\n",
    "    #actual_Ba = Bmedio\n",
    "    #actual_Bb = Bmedio.\n",
    "\n",
    "    if Pay_a < 0:\n",
    "        actual_Ba = Va\n",
    "    if Pay_b < 0:\n",
    "        actual_Bb = Vb\n",
    "\n",
    "    model3.fit(Va, actual_Ba, verbose=0)"
   ]
  },
  {
   "cell_type": "code",
   "execution_count": 59,
   "id": "ready-baghdad",
   "metadata": {},
   "outputs": [
    {
     "data": {
      "text/plain": [
       "[<matplotlib.lines.Line2D at 0x21de93bb7c8>]"
      ]
     },
     "execution_count": 59,
     "metadata": {},
     "output_type": "execute_result"
    },
    {
     "data": {
      "image/png": "[encoded data removed]",
      "text/plain": [
       "<Figure size 432x288 with 1 Axes>"
      ]
     },
     "metadata": {
      "needs_background": "light"
     },
     "output_type": "display_data"
    }
   ],
   "source": [
    "plt.plot(model3(np.arange(0.0, 1.0, 1/100)))"
   ]
  },
  {
   "cell_type": "code",
   "execution_count": null,
   "id": "compliant-costume",
   "metadata": {},
   "outputs": [],
   "source": []
  }
 ],
 "metadata": {
  "kernelspec": {
   "display_name": "Python 3",
   "language": "python",
   "name": "python3"
  },
  "language_info": {
   "codemirror_mode": {
    "name": "ipython",
    "version": 3
   },
   "file_extension": ".py",
   "mimetype": "text/x-python",
   "name": "python",
   "nbconvert_exporter": "python",
   "pygments_lexer": "ipython3",
   "version": "3.7.9"
  }
 },
 "nbformat": 4,
 "nbformat_minor": 5
}
