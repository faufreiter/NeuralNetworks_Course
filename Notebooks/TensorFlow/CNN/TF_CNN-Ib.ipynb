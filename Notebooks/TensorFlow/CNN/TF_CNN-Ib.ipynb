{
 "cells": [
  {
   "cell_type": "markdown",
   "metadata": {},
   "source": [
    "<h1 style=\"color:rgb(0,120,170)\">Neural Networks and Deep Learning</h1>\n",
    "<h2 style=\"color:rgb(0,120,170)\"> Predictive Analysis - Image Processing</h2>\n",
    "\n",
    "[source](https://medium.com/swlh/classifying-fashion-mnist-dataset-with-convolutional-neural-nets-dd092d755164)"
   ]
  },
  {
   "cell_type": "markdown",
   "metadata": {},
   "source": [
    "!pip3 install -U opencv-python"
   ]
  },
  {
   "cell_type": "code",
   "execution_count": 1,
   "metadata": {},
   "outputs": [
    {
     "name": "stderr",
     "output_type": "stream",
     "text": [
      "2022-02-12 11:58:05.794025: W tensorflow/stream_executor/platform/default/dso_loader.cc:64] Could not load dynamic library 'libcudart.so.11.0'; dlerror: libcudart.so.11.0: cannot open shared object file: No such file or directory; LD_LIBRARY_PATH: /home/renato/Documents/env_default/lib/python3.8/site-packages/cv2/../../lib64:\n",
      "2022-02-12 11:58:05.794082: I tensorflow/stream_executor/cuda/cudart_stub.cc:29] Ignore above cudart dlerror if you do not have a GPU set up on your machine.\n"
     ]
    }
   ],
   "source": [
    "import numpy as np\n",
    "import pandas as pd\n",
    "import matplotlib.pyplot as plt\n",
    "import seaborn as sns\n",
    "\n",
    "import cv2\n",
    "import tensorflow as tf\n",
    "from sklearn.metrics import accuracy_score\n",
    "from keras.datasets import fashion_mnist"
   ]
  },
  {
   "cell_type": "code",
   "execution_count": 2,
   "metadata": {},
   "outputs": [
    {
     "name": "stdout",
     "output_type": "stream",
     "text": [
      "Shape:\n",
      "X_Train (60000, 28, 28)\n",
      "Y_Train (60000,)\n",
      "X_Test (10000, 28, 28)\n",
      "Y_Test (10000,)\n"
     ]
    }
   ],
   "source": [
    "(x_train, y_train), (x_test, y_test) = fashion_mnist.load_data()\n",
    "print('Shape:')\n",
    "print('X_Train {}'.format(x_train.shape))\n",
    "print('Y_Train {}'.format(y_train.shape))\n",
    "print('X_Test {}'.format(x_test.shape))\n",
    "print('Y_Test {}'.format(y_test.shape))"
   ]
  },
  {
   "cell_type": "code",
   "execution_count": 3,
   "metadata": {},
   "outputs": [],
   "source": [
    "def check_samples(sample, plot=True):\n",
    "    counter = {}\n",
    "    for key in sample:\n",
    "        if key not in counter.keys():\n",
    "            counter[key] = 1\n",
    "        else:\n",
    "            counter[key] = counter[key] + 1\n",
    "    df_dict = {'cat':[x for x in counter.keys()], \n",
    "               'cnt':[y for y in  counter.values()]}\n",
    "    cnt_df = pd.DataFrame(df_dict)\n",
    "    if plot:\n",
    "        sns.barplot(data=cnt_df, x='cat', y='cnt')\n",
    "        plt.xlabel('Category')\n",
    "        plt.ylabel('Count')\n",
    "        plt.title('# of Obs. in each Category')\n",
    "        return None\n",
    "    else:\n",
    "        return cnt_df"
   ]
  },
  {
   "cell_type": "code",
   "execution_count": 4,
   "metadata": {},
   "outputs": [
    {
     "data": {
      "image/png": "[encoded data removed]",
      "text/plain": [
       "<Figure size 432x288 with 1 Axes>"
      ]
     },
     "metadata": {
      "needs_background": "light"
     },
     "output_type": "display_data"
    }
   ],
   "source": [
    "check_samples(y_train)"
   ]
  },
  {
   "cell_type": "code",
   "execution_count": 5,
   "metadata": {},
   "outputs": [],
   "source": [
    "#Scale Image\n",
    "def scale_img(dim, img):\n",
    "    resized_img = cv2.resize(np.asarray(img), dim, interpolation = cv2.INTER_AREA)\n",
    "    return resized_img\n",
    "\n",
    "#Normalize Image\n",
    "def normalize_img(img, is_gray = False):\n",
    "    normalized_img = cv2.normalize(img, img, 0, 255, cv2.NORM_MINMAX)\n",
    "    if is_gray:\n",
    "        cvt = cv2.cvtColor(normalized_img, cv2.COLOR_BGR2GRAY)\n",
    "        return cvt\n",
    "    return normalized_img\n",
    "\n",
    "#Rotate Image\n",
    "def rotate_img(img, rot_deg):\n",
    "    rows,cols = img.shape[0], img.shape[1]\n",
    "    M = cv2.getRotationMatrix2D((cols/2,rows/2),rot_deg,1)\n",
    "    dst = cv2.warpAffine(img,M,(cols,rows))\n",
    "    return dst\n",
    "\n",
    "#Translate Image\n",
    "def translate_img(img,x=100,y=50):\n",
    "    rows,cols = img.shape[0], img.shape[1]\n",
    "    M = np.float32([[1,0,x],[0,1,y]])\n",
    "    dst = cv2.warpAffine(img,M,(cols,rows))\n",
    "    return dst"
   ]
  },
  {
   "cell_type": "code",
   "execution_count": 6,
   "metadata": {},
   "outputs": [
    {
     "name": "stdout",
     "output_type": "stream",
     "text": [
      "Shape:\n",
      "X_Train (180000, 28, 28, 1)\n",
      "Y_Train (180000, 10)\n"
     ]
    }
   ],
   "source": [
    "x_train_tran = x_train.tolist()\n",
    "y_train_tran = y_train.tolist()\n",
    "ctr = 0\n",
    "for img in x_train:\n",
    "    x_train_tran.append(rotate_img(img, 90))\n",
    "    y_train_tran.append(y_train[ctr])\n",
    "    x_train_tran.append(translate_img(img, x=15, y=15))\n",
    "    y_train_tran.append(y_train[ctr])\n",
    "    ctr = ctr + 1\n",
    "    \n",
    "x_train_tran = np.array(x_train_tran).reshape(len(x_train_tran), 28, 28, 1)\n",
    "y_train_tran = tf.keras.utils.to_categorical(np.array(y_train_tran))\n",
    "#x_train_tran, y_train_tran = shuffle(x_train_tran, y_train_tran)\n",
    "\n",
    "print('Shape:')\n",
    "print('X_Train {}'.format(x_train_tran.shape))\n",
    "print('Y_Train {}'.format(y_train_tran.shape))"
   ]
  },
  {
   "cell_type": "code",
   "execution_count": 7,
   "metadata": {},
   "outputs": [
    {
     "name": "stderr",
     "output_type": "stream",
     "text": [
      "2022-02-12 11:58:14.063771: I tensorflow/stream_executor/cuda/cuda_gpu_executor.cc:936] successful NUMA node read from SysFS had negative value (-1), but there must be at least one NUMA node, so returning NUMA node zero\n",
      "2022-02-12 11:58:14.065190: W tensorflow/stream_executor/platform/default/dso_loader.cc:64] Could not load dynamic library 'libcudart.so.11.0'; dlerror: libcudart.so.11.0: cannot open shared object file: No such file or directory; LD_LIBRARY_PATH: /home/renato/Documents/env_default/lib/python3.8/site-packages/cv2/../../lib64:\n",
      "2022-02-12 11:58:14.065346: W tensorflow/stream_executor/platform/default/dso_loader.cc:64] Could not load dynamic library 'libcublas.so.11'; dlerror: libcublas.so.11: cannot open shared object file: No such file or directory; LD_LIBRARY_PATH: /home/renato/Documents/env_default/lib/python3.8/site-packages/cv2/../../lib64:\n",
      "2022-02-12 11:58:14.065481: W tensorflow/stream_executor/platform/default/dso_loader.cc:64] Could not load dynamic library 'libcublasLt.so.11'; dlerror: libcublasLt.so.11: cannot open shared object file: No such file or directory; LD_LIBRARY_PATH: /home/renato/Documents/env_default/lib/python3.8/site-packages/cv2/../../lib64:\n",
      "2022-02-12 11:58:14.065614: W tensorflow/stream_executor/platform/default/dso_loader.cc:64] Could not load dynamic library 'libcufft.so.10'; dlerror: libcufft.so.10: cannot open shared object file: No such file or directory; LD_LIBRARY_PATH: /home/renato/Documents/env_default/lib/python3.8/site-packages/cv2/../../lib64:\n",
      "2022-02-12 11:58:14.065748: W tensorflow/stream_executor/platform/default/dso_loader.cc:64] Could not load dynamic library 'libcurand.so.10'; dlerror: libcurand.so.10: cannot open shared object file: No such file or directory; LD_LIBRARY_PATH: /home/renato/Documents/env_default/lib/python3.8/site-packages/cv2/../../lib64:\n",
      "2022-02-12 11:58:14.065876: W tensorflow/stream_executor/platform/default/dso_loader.cc:64] Could not load dynamic library 'libcusolver.so.11'; dlerror: libcusolver.so.11: cannot open shared object file: No such file or directory; LD_LIBRARY_PATH: /home/renato/Documents/env_default/lib/python3.8/site-packages/cv2/../../lib64:\n",
      "2022-02-12 11:58:14.066005: W tensorflow/stream_executor/platform/default/dso_loader.cc:64] Could not load dynamic library 'libcusparse.so.11'; dlerror: libcusparse.so.11: cannot open shared object file: No such file or directory; LD_LIBRARY_PATH: /home/renato/Documents/env_default/lib/python3.8/site-packages/cv2/../../lib64:\n",
      "2022-02-12 11:58:14.066135: W tensorflow/stream_executor/platform/default/dso_loader.cc:64] Could not load dynamic library 'libcudnn.so.8'; dlerror: libcudnn.so.8: cannot open shared object file: No such file or directory; LD_LIBRARY_PATH: /home/renato/Documents/env_default/lib/python3.8/site-packages/cv2/../../lib64:\n",
      "2022-02-12 11:58:14.066153: W tensorflow/core/common_runtime/gpu/gpu_device.cc:1850] Cannot dlopen some GPU libraries. Please make sure the missing libraries mentioned above are installed properly if you would like to use GPU. Follow the guide at https://www.tensorflow.org/install/gpu for how to download and setup the required libraries for your platform.\n",
      "Skipping registering GPU devices...\n",
      "2022-02-12 11:58:14.066989: I tensorflow/core/platform/cpu_feature_guard.cc:151] This TensorFlow binary is optimized with oneAPI Deep Neural Network Library (oneDNN) to use the following CPU instructions in performance-critical operations:  AVX2 FMA\n",
      "To enable them in other operations, rebuild TensorFlow with the appropriate compiler flags.\n"
     ]
    }
   ],
   "source": [
    "cnn_model = tf.keras.Sequential()\n",
    "cnn_model.add(tf.keras.layers.Conv2D(filters=128, kernel_size=(5,5), activation='relu',input_shape=(28,28,1)))\n",
    "cnn_model.add(tf.keras.layers.MaxPooling2D(pool_size=(3,3), strides=(3,3)))\n",
    "cnn_model.add(tf.keras.layers.Conv2D(filters=64, kernel_size=(2,2), activation='relu'))\n",
    "cnn_model.add(tf.keras.layers.MaxPooling2D(pool_size=(2,2)))\n",
    "cnn_model.add(tf.keras.layers.Conv2D(filters=32, kernel_size=(2,2), activation='relu'))\n",
    "cnn_model.add(tf.keras.layers.MaxPooling2D(pool_size=(2,2), strides=(2,2)))\n",
    "cnn_model.add(tf.keras.layers.Flatten())\n",
    "cnn_model.add(tf.keras.layers.Dense(32, activation='relu'))\n",
    "cnn_model.add(tf.keras.layers.Dense(tf.keras.utils.to_categorical(y_train).shape[1], activation='softmax'))"
   ]
  },
  {
   "cell_type": "code",
   "execution_count": null,
   "metadata": {},
   "outputs": [
    {
     "name": "stdout",
     "output_type": "stream",
     "text": [
      "Epoch 1/150\n"
     ]
    },
    {
     "name": "stderr",
     "output_type": "stream",
     "text": [
      "2022-02-12 11:58:14.165703: W tensorflow/core/framework/cpu_allocator_impl.cc:82] Allocation of 1128960000 exceeds 10% of free system memory.\n"
     ]
    },
    {
     "name": "stdout",
     "output_type": "stream",
     "text": [
      "5625/5625 [==============================] - 65s 11ms/step - loss: 0.9149 - accuracy: 0.6577\n",
      "Epoch 2/150\n",
      "5625/5625 [==============================] - 68s 12ms/step - loss: 0.7128 - accuracy: 0.7224\n",
      "Epoch 3/150\n",
      "5625/5625 [==============================] - 71s 13ms/step - loss: 0.6567 - accuracy: 0.7408\n",
      "Epoch 4/150\n",
      "5625/5625 [==============================] - 67s 12ms/step - loss: 0.6295 - accuracy: 0.7511\n",
      "Epoch 5/150\n",
      "5625/5625 [==============================] - 63s 11ms/step - loss: 0.6063 - accuracy: 0.7613\n",
      "Epoch 6/150\n",
      "5625/5625 [==============================] - 65s 11ms/step - loss: 0.5929 - accuracy: 0.7655\n",
      "Epoch 7/150\n",
      "5625/5625 [==============================] - 65s 12ms/step - loss: 0.5801 - accuracy: 0.7711\n",
      "Epoch 8/150\n",
      "5625/5625 [==============================] - 63s 11ms/step - loss: 0.5687 - accuracy: 0.7753\n",
      "Epoch 9/150\n",
      "5625/5625 [==============================] - 62s 11ms/step - loss: 0.5612 - accuracy: 0.7782\n",
      "Epoch 10/150\n",
      "5625/5625 [==============================] - 62s 11ms/step - loss: 0.5547 - accuracy: 0.7812\n",
      "Epoch 11/150\n",
      "5625/5625 [==============================] - 62s 11ms/step - loss: 0.5489 - accuracy: 0.7826\n",
      "Epoch 12/150\n",
      "5625/5625 [==============================] - 62s 11ms/step - loss: 0.5454 - accuracy: 0.7835\n",
      "Epoch 13/150\n",
      "5625/5625 [==============================] - 62s 11ms/step - loss: 0.5407 - accuracy: 0.7857\n",
      "Epoch 14/150\n",
      "5625/5625 [==============================] - 62s 11ms/step - loss: 0.5377 - accuracy: 0.7866\n",
      "Epoch 15/150\n",
      "5625/5625 [==============================] - 62s 11ms/step - loss: 0.5319 - accuracy: 0.7880\n",
      "Epoch 16/150\n",
      "5625/5625 [==============================] - 68s 12ms/step - loss: 0.5295 - accuracy: 0.7897\n",
      "Epoch 17/150\n",
      "5625/5625 [==============================] - 64s 11ms/step - loss: 0.5239 - accuracy: 0.7917\n",
      "Epoch 18/150\n",
      "5625/5625 [==============================] - 65s 12ms/step - loss: 0.5237 - accuracy: 0.7930\n",
      "Epoch 19/150\n",
      "5625/5625 [==============================] - 66s 12ms/step - loss: 0.5219 - accuracy: 0.7929\n",
      "Epoch 20/150\n",
      "5625/5625 [==============================] - 77s 14ms/step - loss: 0.5171 - accuracy: 0.7941\n",
      "Epoch 21/150\n",
      "5625/5625 [==============================] - 72s 13ms/step - loss: 0.5139 - accuracy: 0.7957\n",
      "Epoch 22/150\n",
      "5625/5625 [==============================] - 78s 14ms/step - loss: 0.5133 - accuracy: 0.7957\n",
      "Epoch 23/150\n",
      "5625/5625 [==============================] - 70s 12ms/step - loss: 0.5130 - accuracy: 0.7970\n",
      "Epoch 24/150\n",
      "5625/5625 [==============================] - 67s 12ms/step - loss: 0.5079 - accuracy: 0.7970\n",
      "Epoch 25/150\n",
      "5625/5625 [==============================] - 123s 22ms/step - loss: 0.5106 - accuracy: 0.7972\n",
      "Epoch 26/150\n",
      "5625/5625 [==============================] - 71s 13ms/step - loss: 0.5060 - accuracy: 0.7991\n",
      "Epoch 27/150\n",
      "5625/5625 [==============================] - 69s 12ms/step - loss: 0.5026 - accuracy: 0.7995\n",
      "Epoch 28/150\n",
      "5625/5625 [==============================] - 69s 12ms/step - loss: 0.5029 - accuracy: 0.8000\n",
      "Epoch 29/150\n",
      "5625/5625 [==============================] - 67s 12ms/step - loss: 0.5010 - accuracy: 0.7997\n",
      "Epoch 30/150\n",
      "5625/5625 [==============================] - 64s 11ms/step - loss: 0.5003 - accuracy: 0.8007\n",
      "Epoch 31/150\n",
      "5625/5625 [==============================] - 64s 11ms/step - loss: 0.4980 - accuracy: 0.8020\n",
      "Epoch 32/150\n",
      "5625/5625 [==============================] - 64s 11ms/step - loss: 0.5012 - accuracy: 0.8014\n",
      "Epoch 33/150\n",
      "5625/5625 [==============================] - 68s 12ms/step - loss: 0.4964 - accuracy: 0.8020\n",
      "Epoch 34/150\n",
      "5625/5625 [==============================] - 69s 12ms/step - loss: 0.4965 - accuracy: 0.8019\n",
      "Epoch 35/150\n",
      "5625/5625 [==============================] - 65s 12ms/step - loss: 0.4935 - accuracy: 0.8039\n",
      "Epoch 36/150\n",
      "5625/5625 [==============================] - 66s 12ms/step - loss: 0.4934 - accuracy: 0.8051\n",
      "Epoch 37/150\n",
      "5625/5625 [==============================] - 68s 12ms/step - loss: 0.4907 - accuracy: 0.8047\n",
      "Epoch 38/150\n",
      "5625/5625 [==============================] - 63s 11ms/step - loss: 0.4878 - accuracy: 0.8061\n",
      "Epoch 39/150\n",
      "5625/5625 [==============================] - 64s 11ms/step - loss: 0.4881 - accuracy: 0.8053\n",
      "Epoch 40/150\n",
      "5625/5625 [==============================] - 62s 11ms/step - loss: 0.4847 - accuracy: 0.8069\n",
      "Epoch 41/150\n",
      "5625/5625 [==============================] - 61s 11ms/step - loss: 0.4871 - accuracy: 0.8067\n",
      "Epoch 42/150\n",
      "5625/5625 [==============================] - 62s 11ms/step - loss: 0.4845 - accuracy: 0.8074\n",
      "Epoch 43/150\n",
      "5625/5625 [==============================] - 62s 11ms/step - loss: 0.4861 - accuracy: 0.8074\n",
      "Epoch 44/150\n",
      "5625/5625 [==============================] - 62s 11ms/step - loss: 0.4827 - accuracy: 0.8084\n",
      "Epoch 45/150\n",
      "5625/5625 [==============================] - 62s 11ms/step - loss: 0.4862 - accuracy: 0.8069\n",
      "Epoch 46/150\n",
      "5625/5625 [==============================] - 62s 11ms/step - loss: 0.4783 - accuracy: 0.8103\n",
      "Epoch 47/150\n",
      "5625/5625 [==============================] - 62s 11ms/step - loss: 0.4796 - accuracy: 0.8081\n",
      "Epoch 48/150\n",
      "5625/5625 [==============================] - 62s 11ms/step - loss: 0.4830 - accuracy: 0.8086\n",
      "Epoch 49/150\n",
      "5625/5625 [==============================] - 62s 11ms/step - loss: 0.4781 - accuracy: 0.8096\n",
      "Epoch 50/150\n",
      "5625/5625 [==============================] - 62s 11ms/step - loss: 0.4769 - accuracy: 0.8108\n",
      "Epoch 51/150\n",
      "5625/5625 [==============================] - 62s 11ms/step - loss: 0.4826 - accuracy: 0.8094\n",
      "Epoch 52/150\n",
      "5625/5625 [==============================] - 62s 11ms/step - loss: 0.4749 - accuracy: 0.8112\n",
      "Epoch 53/150\n",
      "5625/5625 [==============================] - 70s 12ms/step - loss: 0.4763 - accuracy: 0.8117\n",
      "Epoch 54/150\n",
      "5625/5625 [==============================] - 71s 13ms/step - loss: 0.4771 - accuracy: 0.8106\n",
      "Epoch 55/150\n",
      "5625/5625 [==============================] - 68s 12ms/step - loss: 0.4838 - accuracy: 0.8092\n",
      "Epoch 56/150\n",
      "5020/5625 [=========================>....] - ETA: 6s - loss: 0.4727 - accuracy: 0.8112"
     ]
    }
   ],
   "source": [
    "es = tf.keras.callbacks.EarlyStopping(monitor='loss', min_delta=1e-4, patience=15, verbose=2, mode='auto')\n",
    "\n",
    "cnn_model.compile(optimizer='adam', loss='categorical_crossentropy', metrics=['accuracy'])\n",
    "cnn_model.fit(x_train_tran, y_train_tran, batch_size=32, epochs=150, callbacks=[es])"
   ]
  },
  {
   "cell_type": "code",
   "execution_count": null,
   "metadata": {},
   "outputs": [],
   "source": [
    "preds = cnn_model.predict(x_test_tran)\n",
    "pred_list = []\n",
    "for i in preds:\n",
    "    pred_list.append(np.argmax(i))\n",
    "\n",
    "print('{}%'.format(accuracy_score(y_pred=pred_list,y_true=y_test) * 100))"
   ]
  },
  {
   "cell_type": "code",
   "execution_count": null,
   "metadata": {},
   "outputs": [],
   "source": [
    "class_map = {0:'T-shirt/top',\n",
    "             1:'Trouser',\n",
    "             2:'Pullover',\n",
    "             3:'Dress',\n",
    "             4:'Coat',\n",
    "             5:'Sandal',\n",
    "             6:'Shirt',\n",
    "             7:'Sneaker',\n",
    "             8:'Bag',\n",
    "             9:'Ankle boot'}\n",
    "\n",
    "true_class_ct = {}\n",
    "\n",
    "for i in range(10):\n",
    "    true_class_ct[class_map[i]] = sum(1 for x in incorrect_df['true'] if x == class_map[i])\n",
    "    pred_class_ct = {}\n",
    "for i in range(10):\n",
    "    pred_class_ct[class_map[i]] = sum(1 for x in incorrect_df['pred'] if x == class_map[i])\n",
    "    \n",
    "pred_class_ctop = {}\n",
    "\n",
    "def percentage_error(trueval, changedval, i):\n",
    "    op[class_map[i]] = ((changedval - trueval)/trueval) * 100\n",
    "    \n",
    "for ct in range(10):\n",
    "    tv = true_class_ct[class_map[ct]]\n",
    "    cv = pred_class_ct[class_map[ct]]\n",
    "    percentage_error(tv, cv, ct)\n",
    "    \n",
    "fig, ax = plt.subplots()\n",
    "width = 0.4\n",
    "x = np.arange(10)\n",
    "rects1 = ax.bar(x - width/2, list(true_class_ct.values()), width, label='True')\n",
    "rects2 = ax.bar(x + width/2, list(pred_class_ct.values()), width, label='CNN Predicted')\n",
    "\n",
    "ax.set_ylabel('Count')\n",
    "ax.set_title('Classification Error in each class')\n",
    "ax.set_xticks(x)\n",
    "ax.set_xticklabels(list(op.keys()))\n",
    "ax.legend()\n",
    "plt.xticks(rotation=45)"
   ]
  },
  {
   "cell_type": "code",
   "execution_count": null,
   "metadata": {},
   "outputs": [],
   "source": [
    "sns.barplot(x=list(op.keys()), y=list(op.values()))\n",
    "plt.ylabel(\"Percentage\")\n",
    "plt.title('Percentage error for each class')\n",
    "plt.xticks(rotation=45)\n",
    "plt.xlabel('Classes')"
   ]
  },
  {
   "cell_type": "markdown",
   "metadata": {},
   "source": [
    "Sneakers seems to be a problem. The model classified 60% more samples as sneakers than the original samples that were sneakers. Percentage, however, by itself is not enough. If we consider both bar charts, we can see that our model is overfitting few categories. There are few ways to avoid that.\n",
    "\n",
    "+ Regularization (L1/L2)\n",
    "+ Adding Dropout Layers\n",
    "+ Adding more data by data augmentation (which we did).\n",
    "\n",
    "Model fitting in my opinion is an iterative process. You begin with a model that you think has best hyperparameters to understand data. You then assess the model to see how well it performs on the training data using metrics like accuracy, loss etc. If the model seems to be not doing great, you tweak the hyperparameters and fit the model again until you reach a desired model. Hypothetically, a desired model is the one that has close to 100% accuracy and, that does not over or under-fit on training set and is not biased."
   ]
  },
  {
   "cell_type": "code",
   "execution_count": null,
   "metadata": {},
   "outputs": [],
   "source": []
  }
 ],
 "metadata": {
  "kernelspec": {
   "display_name": "Python 3 (ipykernel)",
   "language": "python",
   "name": "python3"
  },
  "language_info": {
   "codemirror_mode": {
    "name": "ipython",
    "version": 3
   },
   "file_extension": ".py",
   "mimetype": "text/x-python",
   "name": "python",
   "nbconvert_exporter": "python",
   "pygments_lexer": "ipython3",
   "version": "3.8.10"
  }
 },
 "nbformat": 4,
 "nbformat_minor": 4
}
