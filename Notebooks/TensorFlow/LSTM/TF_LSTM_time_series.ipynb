{
 "cells": [
  {
   "cell_type": "markdown",
   "metadata": {
    "_uuid": "a7833341d06bb7f90b8609ac44424fe0a147d5e6"
   },
   "source": [
    "<h1 style=\"color:rgb(0,120,170)\">Neural Networks and Deep Learning</h1>\n",
    "<h2 style=\"color:rgb(0,120,170)\">RNN/LSTM/GRU time series</h2>\n",
    "\n",
    "using Tensor Flow and Keras\n",
    "\n",
    "Based on this [code](https://www.kaggle.com/charel/learn-by-example-rnn-lstm-gru-time-series)\n",
    "\n",
    "We know we cannot predict stock prices based on historic data, but still the Recurring Neural network examples (RNN or LSTM or GRU, etc) to predict stock prices are appealing."
   ]
  },
  {
   "cell_type": "markdown",
   "metadata": {},
   "source": [
    "# Table of Contents\n",
    "  \n",
    "1. [Introduction](#sec1)\n",
    "1. [Sinus wave proof of concept](#sec2)\n",
    "    1. [Results](#sec21)\n",
    "1. [IBM stock prediction](#sec3)\n",
    "    1. [Everybody rich!](#sec31)\n",
    "    1. [you can't predict future stock prices on historic data](#sec32)\n"
   ]
  },
  {
   "cell_type": "markdown",
   "metadata": {},
   "source": [
    "<a id='sec1'></a>\n",
    "# Introduction\n",
    "\n",
    "Please watch this video about RNN/LSTM/GRU time series prediction, it gives you a good overview, it inspired me to reproduce the steps taken in this notebook:  \n",
    "https://www.youtube.com/watch?v=2np77NOdnwk  \n",
    "The code base:  \n",
    "https://github.com/jaungiers/LSTM-Neural-Network-for-Time-Series-Prediction  \n",
    "I would like to acknowledge this tutorial for providing ideas and code, learning by example:  \n",
    "https://www.kaggle.com/thebrownviking20/intro-to-recurrent-neural-networks-lstm-gru/notebook  \n",
    "If you are new to Neural Networks you might want to have a look at my first notebook:  \n",
    "https://www.kaggle.com/charel/learn-neural-networks-by-example-mnist-digits  \n"
   ]
  },
  {
   "cell_type": "code",
   "execution_count": 1,
   "metadata": {
    "_uuid": "1e1586d7f8bcd363c42c6f153fa9d46e956227f4",
    "scrolled": true
   },
   "outputs": [
    {
     "name": "stderr",
     "output_type": "stream",
     "text": [
      "2022-02-12 16:04:37.567288: W tensorflow/stream_executor/platform/default/dso_loader.cc:64] Could not load dynamic library 'libcudart.so.11.0'; dlerror: libcudart.so.11.0: cannot open shared object file: No such file or directory\n",
      "2022-02-12 16:04:37.567315: I tensorflow/stream_executor/cuda/cudart_stub.cc:29] Ignore above cudart dlerror if you do not have a GPU set up on your machine.\n"
     ]
    }
   ],
   "source": [
    "import numpy as np # linear algebra\n",
    "from numpy import newaxis\n",
    "import pandas as pd # data processing, CSV file I/O (e.g. pd.read_csv)\n",
    "from tensorflow.keras.layers import Dense, Activation, Dropout\n",
    "from tensorflow.keras.layers import LSTM, GRU\n",
    "from tensorflow.keras.models import Sequential\n",
    "from tensorflow.keras import optimizers\n",
    "from sklearn.preprocessing import MinMaxScaler\n",
    "import matplotlib.pyplot as plt\n",
    "plt.style.use('fivethirtyeight')"
   ]
  },
  {
   "cell_type": "code",
   "execution_count": 2,
   "metadata": {
    "_uuid": "6b437a39daae6cb04092f0f6b893495af23204d3"
   },
   "outputs": [
    {
     "name": "stdout",
     "output_type": "stream",
     "text": [
      "enrol window set to 100\n"
     ]
    }
   ],
   "source": [
    "# Enter in how much steps we will enroll the network.\n",
    "# RNN/LSTM/GRU can be taught patterns over times series as big as the number of times you enrol them, and no bigger (fundamental limitation). \n",
    "# So by design these networks are deep/long to catch recurrent patterns.\n",
    "\n",
    "Enrol_window = 100\n",
    "\n",
    "print('enrol window set to', Enrol_window)"
   ]
  },
  {
   "cell_type": "code",
   "execution_count": 3,
   "metadata": {
    "_uuid": "f6fb76deb6204f2ac2008d98a20b2d119b47264d"
   },
   "outputs": [],
   "source": [
    "# Support functions\n",
    "sc = MinMaxScaler(feature_range=(0,1))\n",
    "\n",
    "def load_data(datasetname, column, seq_len, normalise_window):\n",
    "    # A support function to help prepare datasets for an RNN/LSTM/GRU\n",
    "    data = datasetname.loc[:,column]\n",
    "\n",
    "    sequence_length = seq_len + 1\n",
    "    result = []\n",
    "    for index in range(len(data) - sequence_length):\n",
    "        result.append(data[index: index + sequence_length])\n",
    "    \n",
    "    if normalise_window:\n",
    "        #result = sc.fit_transform(result)\n",
    "        result = normalise_windows(result)\n",
    "\n",
    "    result = np.array(result)\n",
    "\n",
    "    #Last 10% is used for validation test, first 90% for training\n",
    "    row = round(0.9 * result.shape[0])\n",
    "    train = result[:int(row), :]\n",
    "    np.random.shuffle(train)\n",
    "    x_train = train[:, :-1]\n",
    "    y_train = train[:, -1]\n",
    "    x_test = result[int(row):, :-1]\n",
    "    y_test = result[int(row):, -1]\n",
    "    x_train = np.reshape(x_train, (x_train.shape[0], x_train.shape[1], 1))\n",
    "    x_test = np.reshape(x_test, (x_test.shape[0], x_test.shape[1], 1))  \n",
    "\n",
    "    return [x_train, y_train, x_test, y_test]\n",
    "\n",
    "def normalise_windows(window_data):\n",
    "    # A support function to normalize a dataset\n",
    "    normalised_data = []\n",
    "    for window in window_data:\n",
    "        normalised_window = [((float(p) / float(window[0])) - 1) for p in window]\n",
    "        normalised_data.append(normalised_window)\n",
    "    return normalised_data\n",
    "\n",
    "def predict_sequence_full(model, data, window_size):\n",
    "    #Shift the window by 1 new prediction each time, re-run predictions on new window\n",
    "    curr_frame = data[0]\n",
    "    predicted = []\n",
    "    for i in range(len(data)):\n",
    "        predicted.append(model.predict(curr_frame[newaxis,:,:])[0,0])\n",
    "        curr_frame = curr_frame[1:]\n",
    "        curr_frame = np.insert(curr_frame, [window_size-1], predicted[-1], axis=0)\n",
    "    return predicted\n",
    "\n",
    "def predict_sequences_multiple(model, data, window_size, prediction_len):\n",
    "    #Predict sequence of <prediction_len> steps before shifting prediction run forward by <prediction_len> steps\n",
    "    prediction_seqs = []\n",
    "    for i in range(int(len(data)/prediction_len)):\n",
    "        curr_frame = data[i*prediction_len]\n",
    "        predicted = []\n",
    "        for j in range(prediction_len):\n",
    "            predicted.append(model.predict(curr_frame[newaxis,:,:])[0,0])\n",
    "            curr_frame = curr_frame[1:]\n",
    "            curr_frame = np.insert(curr_frame, [window_size-1], predicted[-1], axis=0)\n",
    "        prediction_seqs.append(predicted)\n",
    "    return prediction_seqs\n",
    "\n",
    "def plot_results(predicted_data, true_data): \n",
    "    fig = plt.figure(figsize=(16,8), facecolor='white') \n",
    "    ax = fig.add_subplot(111) \n",
    "    ax.plot(true_data, label='True Data') \n",
    "    plt.plot(predicted_data, label='Prediction') \n",
    "    plt.legend() \n",
    "    plt.show() \n",
    "    \n",
    "def plot_results_multiple(predicted_data, true_data, prediction_len):\n",
    "    fig = plt.figure(figsize=(16,8), facecolor='white')\n",
    "    ax = fig.add_subplot(111)\n",
    "    ax.plot(true_data, label='True Data')\n",
    "    #Pad the list of predictions to shift it in the graph to it's correct start\n",
    "    for i, data in enumerate(predicted_data):\n",
    "        padding = [None for p in range(i * prediction_len)]\n",
    "        plt.plot(padding + data, label='Prediction')\n",
    "        plt.legend()\n",
    "    plt.show()"
   ]
  },
  {
   "cell_type": "markdown",
   "metadata": {
    "_uuid": "f984155dc7f2ec9f77e6321f49cebd6c049f9c2c"
   },
   "source": [
    "<a id='sec2'></a>\n",
    "# Sinus wave proof of concept\n",
    "First let's run some tests on a plain sinus wave and see of the Neural Network can predict it right - proof of concept"
   ]
  },
  {
   "cell_type": "code",
   "execution_count": 5,
   "metadata": {
    "_uuid": "1ab37719304d4b1318ed7beb78d9cea1c8efd683"
   },
   "outputs": [
    {
     "data": {
      "text/plain": [
       "<AxesSubplot:>"
      ]
     },
     "execution_count": 5,
     "metadata": {},
     "output_type": "execute_result"
    },
    {
     "data": {
      "image/png": "[encoded data removed]",
      "text/plain": [
       "<Figure size 1152x288 with 1 Axes>"
      ]
     },
     "metadata": {},
     "output_type": "display_data"
    }
   ],
   "source": [
    "# Load the data\n",
    "dataset = pd.read_csv('./Data/SinWaveDataGenerator.csv')\n",
    "dataset[\"Wave\"][:].plot(figsize=(16,4),legend=False)"
   ]
  },
  {
   "cell_type": "code",
   "execution_count": 6,
   "metadata": {
    "_uuid": "bbd36cbf2a65e81c056f4dfa7f421485c524dde5"
   },
   "outputs": [],
   "source": [
    "# Prepare the dataset, note that all data for the sinus wave is already normalized between 0 and 1\n",
    "\n",
    "feature_train, label_train, feature_test, label_test = load_data(dataset, 'Wave', Enrol_window, False)"
   ]
  },
  {
   "cell_type": "code",
   "execution_count": 7,
   "metadata": {
    "_uuid": "79a7c547db4096dec29837df145a79fbe75d847b"
   },
   "outputs": [
    {
     "name": "stderr",
     "output_type": "stream",
     "text": [
      "2022-02-12 16:05:16.845657: I tensorflow/stream_executor/cuda/cuda_gpu_executor.cc:936] successful NUMA node read from SysFS had negative value (-1), but there must be at least one NUMA node, so returning NUMA node zero\n",
      "2022-02-12 16:05:16.846187: W tensorflow/stream_executor/platform/default/dso_loader.cc:64] Could not load dynamic library 'libcudart.so.11.0'; dlerror: libcudart.so.11.0: cannot open shared object file: No such file or directory\n",
      "2022-02-12 16:05:16.846345: W tensorflow/stream_executor/platform/default/dso_loader.cc:64] Could not load dynamic library 'libcublas.so.11'; dlerror: libcublas.so.11: cannot open shared object file: No such file or directory\n",
      "2022-02-12 16:05:16.846432: W tensorflow/stream_executor/platform/default/dso_loader.cc:64] Could not load dynamic library 'libcublasLt.so.11'; dlerror: libcublasLt.so.11: cannot open shared object file: No such file or directory\n",
      "2022-02-12 16:05:16.846508: W tensorflow/stream_executor/platform/default/dso_loader.cc:64] Could not load dynamic library 'libcufft.so.10'; dlerror: libcufft.so.10: cannot open shared object file: No such file or directory\n",
      "2022-02-12 16:05:16.846589: W tensorflow/stream_executor/platform/default/dso_loader.cc:64] Could not load dynamic library 'libcurand.so.10'; dlerror: libcurand.so.10: cannot open shared object file: No such file or directory\n",
      "2022-02-12 16:05:16.846667: W tensorflow/stream_executor/platform/default/dso_loader.cc:64] Could not load dynamic library 'libcusolver.so.11'; dlerror: libcusolver.so.11: cannot open shared object file: No such file or directory\n",
      "2022-02-12 16:05:16.846741: W tensorflow/stream_executor/platform/default/dso_loader.cc:64] Could not load dynamic library 'libcusparse.so.11'; dlerror: libcusparse.so.11: cannot open shared object file: No such file or directory\n",
      "2022-02-12 16:05:16.846816: W tensorflow/stream_executor/platform/default/dso_loader.cc:64] Could not load dynamic library 'libcudnn.so.8'; dlerror: libcudnn.so.8: cannot open shared object file: No such file or directory\n",
      "2022-02-12 16:05:16.846827: W tensorflow/core/common_runtime/gpu/gpu_device.cc:1850] Cannot dlopen some GPU libraries. Please make sure the missing libraries mentioned above are installed properly if you would like to use GPU. Follow the guide at https://www.tensorflow.org/install/gpu for how to download and setup the required libraries for your platform.\n",
      "Skipping registering GPU devices...\n",
      "2022-02-12 16:05:16.851373: I tensorflow/core/platform/cpu_feature_guard.cc:151] This TensorFlow binary is optimized with oneAPI Deep Neural Network Library (oneDNN) to use the following CPU instructions in performance-critical operations:  AVX2 FMA\n",
      "To enable them in other operations, rebuild TensorFlow with the appropriate compiler flags.\n"
     ]
    },
    {
     "name": "stdout",
     "output_type": "stream",
     "text": [
      "Model: \"sequential\"\n",
      "_________________________________________________________________\n",
      " Layer (type)                Output Shape              Param #   \n",
      "=================================================================\n",
      " lstm (LSTM)                 (None, 100, 50)           10400     \n",
      "                                                                 \n",
      " dropout (Dropout)           (None, 100, 50)           0         \n",
      "                                                                 \n",
      " lstm_1 (LSTM)               (None, 100)               60400     \n",
      "                                                                 \n",
      " dropout_1 (Dropout)         (None, 100)               0         \n",
      "                                                                 \n",
      " dense (Dense)               (None, 1)                 101       \n",
      "                                                                 \n",
      "=================================================================\n",
      "Total params: 70,901\n",
      "Trainable params: 70,901\n",
      "Non-trainable params: 0\n",
      "_________________________________________________________________\n",
      "None\n"
     ]
    }
   ],
   "source": [
    "# The LSTM model I would like to test\n",
    "# Note: replace LSTM with GRU or RNN if you want to try those\n",
    "\n",
    "model = Sequential()\n",
    "model.add(LSTM(50, return_sequences=True, input_shape=(feature_train.shape[1],1)))\n",
    "model.add(Dropout(0.2))\n",
    "model.add(LSTM(100, return_sequences=False))\n",
    "model.add(Dropout(0.2))\n",
    "model.add(Dense(1, activation = \"linear\"))\n",
    "\n",
    "model.compile(loss='mse', optimizer='adam')\n",
    "print (model.summary())"
   ]
  },
  {
   "cell_type": "code",
   "execution_count": null,
   "metadata": {
    "_uuid": "4addeb396d974b6c8731d7577c3a82065a518fbf"
   },
   "outputs": [
    {
     "name": "stdout",
     "output_type": "stream",
     "text": [
      "Epoch 1/10\n",
      "9/9 [==============================] - 9s 627ms/step - loss: 0.2707 - val_loss: 0.1082\n",
      "Epoch 2/10\n",
      "9/9 [==============================] - 5s 501ms/step - loss: 0.0562 - val_loss: 0.0102\n",
      "Epoch 3/10\n",
      "9/9 [==============================] - 4s 495ms/step - loss: 0.0129 - val_loss: 0.0053\n",
      "Epoch 4/10\n",
      "9/9 [==============================] - 5s 517ms/step - loss: 0.0076 - val_loss: 0.0034\n",
      "Epoch 5/10\n",
      "9/9 [==============================] - 4s 503ms/step - loss: 0.0066 - val_loss: 5.2899e-04\n",
      "Epoch 6/10\n",
      "9/9 [==============================] - 5s 519ms/step - loss: 0.0050 - val_loss: 5.3566e-04\n",
      "Epoch 7/10\n",
      "9/9 [==============================] - 5s 523ms/step - loss: 0.0046 - val_loss: 6.9337e-04\n",
      "Epoch 8/10\n",
      "9/9 [==============================] - 5s 519ms/step - loss: 0.0043 - val_loss: 2.6189e-04\n",
      "Epoch 9/10\n",
      "4/9 [============>.................] - ETA: 2s - loss: 0.0042"
     ]
    }
   ],
   "source": [
    "#Train the model\n",
    "history = model.fit(feature_train, label_train, batch_size=512, epochs=10, validation_data = (feature_test, label_test))"
   ]
  },
  {
   "cell_type": "code",
   "execution_count": null,
   "metadata": {
    "_uuid": "074c78f75d4b8491ab3368edeb7f85cf2e04d0e3"
   },
   "outputs": [],
   "source": [
    "#Let's use the model and predict the wave\n",
    "predictions= predict_sequence_full(model, feature_test, Enrol_window)\n",
    "plot_results(predictions,label_test)"
   ]
  },
  {
   "cell_type": "markdown",
   "metadata": {
    "_uuid": "66de661f6b65ac2fdfcb5f4cb55db4d1f42fecdb"
   },
   "source": [
    "<a id='sec21'></a>\n",
    "### Results\n",
    "Actually not a bad result because remember the models predicts 500 steps in the future and more-over after the enrol_window length (e.g. 100 steps) the predictions are being made on predictions, so eny error quickly multiplies ba magnitudes.\n",
    "\n",
    "Having this confidence let's try to predicts some stock prices"
   ]
  },
  {
   "cell_type": "markdown",
   "metadata": {},
   "source": [
    "<a id='sec3'></a>\n",
    "# IBM stock prediction\n",
    "Could we predict stock prices with the neural network? Let's try it on some actual data. The daily stock prices of IBM stock are available for 2006-2017. Let's try to predict that last 10% of the data (approx the 2017 data) based on all the data before."
   ]
  },
  {
   "cell_type": "code",
   "execution_count": null,
   "metadata": {
    "_cell_guid": "79c7e3d0-c299-4dcb-8224-4455121ee9b0",
    "_uuid": "d629ff2d2480ee46fbb7e2d37f6b5fab8052498a"
   },
   "outputs": [],
   "source": [
    "# Let's get the stock data\n",
    "dataset = pd.read_csv('./Data/IBM_2006-01-01_to_2018-01-01.csv', index_col='Date', parse_dates=['Date'])\n",
    "dataset.head()"
   ]
  },
  {
   "cell_type": "code",
   "execution_count": null,
   "metadata": {
    "_uuid": "fb4569f329b2aaeabc218f681625746b13e828c1"
   },
   "outputs": [],
   "source": [
    "# Prepare the dataset, note that the stock price data will be normalized between 0 and 1\n",
    "# A label is the thing we're predicting\n",
    "# A feature is an input variable, in this case a stock price\n",
    "# Selected 'Close' (stock pric at closing) attribute for prices. Let's see what it looks like\n",
    "\n",
    "feature_train, label_train, feature_test, label_test = load_data(dataset, 'Close', Enrol_window, True)\n",
    "\n",
    "dataset[\"Close\"][:'2016'].plot(figsize=(16,6),legend=True)\n",
    "dataset[\"Close\"]['2017':].plot(figsize=(16,6),legend=True) # 10% is used for thraining data which is approx 2017 data\n",
    "plt.legend(['Training set (First 90%, approx before 2017)','Test set (Last 10%, approx 2017 and beyond)'])\n",
    "plt.title('IBM stock price')\n",
    "plt.show()"
   ]
  },
  {
   "cell_type": "code",
   "execution_count": null,
   "metadata": {
    "_uuid": "7d601644737d56f8c4fdbfb78fa7c72026abdbe8"
   },
   "outputs": [],
   "source": [
    "# The same LSTM model I would like to test, lets see if the sinus prediction results can be matched\n",
    "# Note: replace LSTM with GRU or RNN if you want to try those\n",
    "\n",
    "model = Sequential()\n",
    "model.add(LSTM(50, return_sequences=True, input_shape=(feature_train.shape[1],1)))\n",
    "model.add(Dropout(0.2))\n",
    "model.add(LSTM(100, return_sequences=False))\n",
    "model.add(Dropout(0.2))\n",
    "model.add(Dense(1, activation = \"linear\"))\n",
    "\n",
    "model.compile(loss='mse', optimizer='adam')\n",
    "print (model.summary())"
   ]
  },
  {
   "cell_type": "code",
   "execution_count": null,
   "metadata": {
    "_uuid": "4c2a4fbae8261dd49817c83b6e37ac2859f0b3e9"
   },
   "outputs": [],
   "source": [
    "#Train the model\n",
    "model.fit(feature_train, label_train, batch_size=512, epochs=5, validation_data = (feature_test, label_test))"
   ]
  },
  {
   "cell_type": "code",
   "execution_count": null,
   "metadata": {
    "_uuid": "d1c9943696f20a59a8fb2d251f73167d6c47a447"
   },
   "outputs": [],
   "source": [
    "#Let's use the model and predict the stock\n",
    "predicted_stock_price = model.predict(feature_test)\n",
    "plot_results(predicted_stock_price,label_test)"
   ]
  },
  {
   "cell_type": "markdown",
   "metadata": {
    "_uuid": "bed79bb934313838b347249b95a29dceb2a17458"
   },
   "source": [
    "<a id='sec31'></a>\n",
    "### Everybody rich?\n",
    "\n",
    "This looks incredible correct, but \"if it is too good to be true, it is probably not true\".  \n",
    "Let's step back and actually see what we did. We created a testset of 100 (depending on how you set the enrol_window) actual datapoints and ask to predict number 101 (which is probably close to number 100 anyhow). And we did so for each point in this graph. Hence the fantastic result, it wasn't that hard (Remember that you are looking at normalised data)\n",
    "\n",
    "Like the sinewave example we need to predict a new point based on the actual last 100 points, the next point on 99 actual points and 1 prediction, the next point on 98 actuals and 2 predictions, and so forth.   \n",
    "Lets make some 50 predictions ahead in the future and do this every 50 times to get a bearing how the model predicts"
   ]
  },
  {
   "cell_type": "code",
   "execution_count": null,
   "metadata": {
    "_uuid": "37e304f420697a5d1fc5194bcf209b1119c98dcd"
   },
   "outputs": [],
   "source": [
    "predictions = predict_sequences_multiple(model, feature_test, Enrol_window, 50)\n",
    "plot_results_multiple(predictions, label_test, 50)  "
   ]
  },
  {
   "cell_type": "markdown",
   "metadata": {
    "_uuid": "18001618ea3b467c3b3458b56222d0ee758b320f"
   },
   "source": [
    "<a id='sec32'></a>\n",
    "### The truth is that you can't predict future stock prices on historic data\n",
    "\n",
    "Ouch, can't use that to put some real money in the stock market.  We basically knew already that you cant predict future stock prices on historic data. Pick for example the grey or purple line, it probably learned the stock went down last 100 sequence so it predicts it will go down, what would be a recognizable pattern to predict the trend will break and would go back up again after point 200.  So it is nog recognisable in the historic data, else the algorithem would have found it. Maybe with a richer data set with correleated stocks? Other (News?) items? Anyhow, still a nice learning example which helped me to practice with LSTM (but could also picked GRU or RNN, few simple code changes in the model)"
   ]
  },
  {
   "cell_type": "code",
   "execution_count": null,
   "metadata": {},
   "outputs": [],
   "source": []
  }
 ],
 "metadata": {
  "kernelspec": {
   "display_name": "Python 3 (ipykernel)",
   "language": "python",
   "name": "python3"
  },
  "language_info": {
   "codemirror_mode": {
    "name": "ipython",
    "version": 3
   },
   "file_extension": ".py",
   "mimetype": "text/x-python",
   "name": "python",
   "nbconvert_exporter": "python",
   "pygments_lexer": "ipython3",
   "version": "3.8.10"
  }
 },
 "nbformat": 4,
 "nbformat_minor": 4
}
