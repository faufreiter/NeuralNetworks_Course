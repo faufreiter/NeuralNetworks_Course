{
 "cells": [
  {
   "cell_type": "markdown",
   "metadata": {},
   "source": [
    "<h1 style=\"color:rgb(0,120,170)\">Neural Networks and Deep Learning</h1>\n",
    "<h2 style=\"color:rgb(0,120,170)\">Graph Convolutional Networks</h2>\n",
    "\n",
    "Based on [this Notebook](https://stellargraph.readthedocs.io/en/stable/demos/node-classification/gcn-node-classification.html)"
   ]
  },
  {
   "cell_type": "markdown",
   "metadata": {},
   "source": [
    "## Node classification with Graph Convolutional Network (GCN)\n",
    "\n",
    "This demo explains how to do node classification using the StellarGraph library. [See all other demos](https://stellargraph.readthedocs.io/en/stable/demos/index.html).\n",
    "\n",
    "The [StellarGraph library](https://github.com/stellargraph/stellargraph) supports many state-of-the-art machine learning (ML) algorithms on graphs. In this notebook, we’ll be training a model to predict the class or label of a node, commonly known as node classification. We will also use the resulting model to compute vector embeddings for each node.\n",
    "\n",
    "There’s two necessary parts to be able to do this task:\n",
    "\n",
    "+ a graph: this notebook uses the [Cora dataset](https://linqs.soe.ucsc.edu/data). The dataset consists of academic publications as the nodes and the citations between them as the links: if publication A cites publication B, then the graph has an edge from A to B. The nodes are classified into one of seven subjects, and our model will learn to predict this subject.\n",
    "\n",
    "+ an algorithm: this notebook uses a Graph Convolution Network (GCN) [reference](https://github.com/tkipf/gcn). The core of the GCN neural network model is a “graph convolution” layer. This layer is similar to a conventional dense layer, augmented by the graph adjacency matrix to use information about a node’s connections. This algorithm is discussed in more detail in [Knowing Your Neighbours: Machine Learning on Graphs](https://medium.com/stellargraph/knowing-your-neighbours-machine-learning-on-graphs-9b7c3d0d5896).\n",
    "\n",
    "The notebook walks through three sections:\n",
    "\n",
    "+ Data preparation using Pandas and scikit-learn: loading the graph from CSV files, doing some basic introspection, and splitting it into train, test and validation splits for ML\n",
    "+ Creating the GCN layers and data input using StellarGraph\n",
    "+ Training and evaluating the model using TensorFlow Keras, Pandas and scikit-learn\n",
    "\n",
    "Notably, only section 2 needs StellarGraph: section 1 and section 3 are driven by the existing flexible functionality in common and popular data science libraries. Most of the algorithms supported by StellarGraph follow this pattern, where the custom StellarGraph functionality integrates smoothly with the conventional data science work-flow.\n",
    "\n",
    "StellarGraph supports other algorithms for doing [node classification](https://stellargraph.readthedocs.io/en/stable/demos/node-classification/index.html), as well as many [other tasks](https://stellargraph.readthedocs.io/en/stable/demos/index.html) such as [link prediction](https://stellargraph.readthedocs.io/en/stable/demos/link-prediction/index.html), and [representation learning](https://stellargraph.readthedocs.io/en/stable/demos/embeddings/index.html).\n",
    "\n",
    "Reference: \n",
    "[Graph Convolutional Networks (GCN): Semi-Supervised Classification with Graph Convolutional Networks. Thomas N. Kipf, Max Welling. International Conference on Learning Representations (ICLR), 2017](https://github.com/tkipf/gcn)"
   ]
  },
  {
   "cell_type": "code",
   "execution_count": 1,
   "metadata": {},
   "outputs": [],
   "source": [
    "# !pip install -U stellargraph"
   ]
  },
  {
   "cell_type": "code",
   "execution_count": 2,
   "metadata": {},
   "outputs": [],
   "source": [
    "import os\n",
    "\n",
    "import matplotlib.pyplot as plt\n",
    "import pandas as pd\n",
    "\n",
    "import stellargraph as sg\n",
    "#from stellargraph.mapper import FullBatchNodeGenerator\n",
    "#from stellargraph.layer import GCN\n",
    "\n",
    "import tensorflow as tf\n",
    "#from tensorflow.keras import layers, optimizers, losses, metrics, Model\n",
    "#from tensorflow.keras.callbacks import EarlyStopping\n",
    "\n",
    "from sklearn import preprocessing, model_selection\n",
    "from IPython.display import display, HTML\n",
    "\n",
    "%matplotlib inline"
   ]
  },
  {
   "cell_type": "code",
   "execution_count": 3,
   "metadata": {},
   "outputs": [
    {
     "name": "stdout",
     "output_type": "stream",
     "text": [
      "2.8.0\n",
      "No GPU\n"
     ]
    }
   ],
   "source": [
    "print(tf.__version__)\n",
    "try:\n",
    "    physical_devices = tf.config.list_physical_devices('GPU') \n",
    "    #tf.config.experimental.set_memory_growth(physical_devices[0], True)\n",
    "    for device in physical_devices:\n",
    "        tf.config.experimental.set_memory_growth(device, True)\n",
    "    print(physical_devices)\n",
    "except:\n",
    "    print(\"No GPU\")"
   ]
  },
  {
   "cell_type": "markdown",
   "metadata": {},
   "source": [
    "## Data Preparation  \n",
    "\n",
    "#### Loading the CORA network\n",
    "\n",
    "We can retrieve a StellarGraph graph object holding this Cora dataset using the Cora loader (docs) from the datasets submodule (docs). It also provides us with the ground-truth node subject classes. This function is implemented using Pandas, see the “Loading data into StellarGraph from Pandas” notebook for details.\n",
    "\n",
    "(Note: Cora is a citation network, which is a directed graph, but, like most users of this graph, we ignore the edge direction and treat it as undirected.)\n",
    "\n",
    "(See the “Loading from Pandas” demo for details on how data can be loaded.)"
   ]
  },
  {
   "cell_type": "code",
   "execution_count": 4,
   "metadata": {},
   "outputs": [
    {
     "data": {
      "text/html": [
       "The Cora dataset consists of 2708 scientific publications classified into one of seven classes. The citation network consists of 5429 links. Each publication in the dataset is described by a 0/1-valued word vector indicating the absence/presence of the corresponding word from the dictionary. The dictionary consists of 1433 unique words."
      ],
      "text/plain": [
       "<IPython.core.display.HTML object>"
      ]
     },
     "metadata": {},
     "output_type": "display_data"
    }
   ],
   "source": [
    "dataset = sg.datasets.Cora()\n",
    "display(HTML(dataset.description))\n",
    "\n",
    "G, node_subjects = dataset.load()"
   ]
  },
  {
   "cell_type": "code",
   "execution_count": 5,
   "metadata": {},
   "outputs": [
    {
     "name": "stdout",
     "output_type": "stream",
     "text": [
      "StellarGraph: Undirected multigraph\n",
      " Nodes: 2708, Edges: 5429\n",
      "\n",
      " Node types:\n",
      "  paper: [2708]\n",
      "    Features: float32 vector, length 1433\n",
      "    Edge types: paper-cites->paper\n",
      "\n",
      " Edge types:\n",
      "    paper-cites->paper: [5429]\n",
      "        Weights: all 1 (default)\n",
      "        Features: none\n"
     ]
    }
   ],
   "source": [
    "print(G.info())"
   ]
  },
  {
   "cell_type": "code",
   "execution_count": 6,
   "metadata": {},
   "outputs": [
    {
     "name": "stdout",
     "output_type": "stream",
     "text": [
      "(1033, 35)\n",
      "(103482, 35)\n",
      "(103515, 35)\n",
      "(1050679, 35)\n",
      "(1103960, 35)\n",
      "(1103985, 35)\n",
      "(1109199, 35)\n",
      "(1112911, 35)\n",
      "(1113438, 35)\n",
      "(1113831, 35)\n"
     ]
    }
   ],
   "source": [
    "for edge in G.edges()[0:10]:\n",
    "    print(edge)"
   ]
  },
  {
   "cell_type": "code",
   "execution_count": 7,
   "metadata": {},
   "outputs": [
    {
     "data": {
      "text/plain": [
       "31336             Neural_Networks\n",
       "1061127             Rule_Learning\n",
       "1106406    Reinforcement_Learning\n",
       "13195      Reinforcement_Learning\n",
       "37879       Probabilistic_Methods\n",
       "                    ...          \n",
       "1128975        Genetic_Algorithms\n",
       "1128977        Genetic_Algorithms\n",
       "1128978        Genetic_Algorithms\n",
       "117328                 Case_Based\n",
       "24043             Neural_Networks\n",
       "Name: subject, Length: 2708, dtype: object"
      ]
     },
     "execution_count": 7,
     "metadata": {},
     "output_type": "execute_result"
    }
   ],
   "source": [
    "node_subjects"
   ]
  },
  {
   "cell_type": "markdown",
   "metadata": {},
   "source": [
    "We aim to train a graph-ML model that will predict the “subject” attribute on the nodes. These subjects are one of 7 categories, with some categories more common than others:"
   ]
  },
  {
   "cell_type": "code",
   "execution_count": 8,
   "metadata": {},
   "outputs": [
    {
     "data": {
      "text/html": [
       "<div>\n",
       "<style scoped>\n",
       "    .dataframe tbody tr th:only-of-type {\n",
       "        vertical-align: middle;\n",
       "    }\n",
       "\n",
       "    .dataframe tbody tr th {\n",
       "        vertical-align: top;\n",
       "    }\n",
       "\n",
       "    .dataframe thead th {\n",
       "        text-align: right;\n",
       "    }\n",
       "</style>\n",
       "<table border=\"1\" class=\"dataframe\">\n",
       "  <thead>\n",
       "    <tr style=\"text-align: right;\">\n",
       "      <th></th>\n",
       "      <th>subject</th>\n",
       "    </tr>\n",
       "  </thead>\n",
       "  <tbody>\n",
       "    <tr>\n",
       "      <th>Neural_Networks</th>\n",
       "      <td>818</td>\n",
       "    </tr>\n",
       "    <tr>\n",
       "      <th>Probabilistic_Methods</th>\n",
       "      <td>426</td>\n",
       "    </tr>\n",
       "    <tr>\n",
       "      <th>Genetic_Algorithms</th>\n",
       "      <td>418</td>\n",
       "    </tr>\n",
       "    <tr>\n",
       "      <th>Theory</th>\n",
       "      <td>351</td>\n",
       "    </tr>\n",
       "    <tr>\n",
       "      <th>Case_Based</th>\n",
       "      <td>298</td>\n",
       "    </tr>\n",
       "    <tr>\n",
       "      <th>Reinforcement_Learning</th>\n",
       "      <td>217</td>\n",
       "    </tr>\n",
       "    <tr>\n",
       "      <th>Rule_Learning</th>\n",
       "      <td>180</td>\n",
       "    </tr>\n",
       "  </tbody>\n",
       "</table>\n",
       "</div>"
      ],
      "text/plain": [
       "                        subject\n",
       "Neural_Networks             818\n",
       "Probabilistic_Methods       426\n",
       "Genetic_Algorithms          418\n",
       "Theory                      351\n",
       "Case_Based                  298\n",
       "Reinforcement_Learning      217\n",
       "Rule_Learning               180"
      ]
     },
     "execution_count": 8,
     "metadata": {},
     "output_type": "execute_result"
    }
   ],
   "source": [
    "node_subjects.value_counts().to_frame()"
   ]
  },
  {
   "cell_type": "markdown",
   "metadata": {},
   "source": [
    "### Splitting the data\n",
    "\n",
    "For machine learning we want to take a subset of the nodes for training, and use the rest for validation and testing. We’ll use scikit-learn’s train_test_split function (docs) to do this.\n",
    "\n",
    "Here we’re taking 140 node labels for training, 500 for validation, and the rest for testing."
   ]
  },
  {
   "cell_type": "code",
   "execution_count": 9,
   "metadata": {},
   "outputs": [],
   "source": [
    "train_subjects, test_subjects = model_selection.train_test_split(node_subjects, \n",
    "                                                                 train_size=140, \n",
    "                                                                 test_size=None, \n",
    "                                                                 stratify=node_subjects)\n",
    "\n",
    "val_subjects, test_subjects = model_selection.train_test_split(test_subjects, \n",
    "                                                               train_size=500, \n",
    "                                                               test_size=None, \n",
    "                                                               stratify=test_subjects)"
   ]
  },
  {
   "cell_type": "markdown",
   "metadata": {},
   "source": [
    "Note using stratified sampling gives the following counts:"
   ]
  },
  {
   "cell_type": "code",
   "execution_count": 10,
   "metadata": {},
   "outputs": [
    {
     "data": {
      "text/html": [
       "<div>\n",
       "<style scoped>\n",
       "    .dataframe tbody tr th:only-of-type {\n",
       "        vertical-align: middle;\n",
       "    }\n",
       "\n",
       "    .dataframe tbody tr th {\n",
       "        vertical-align: top;\n",
       "    }\n",
       "\n",
       "    .dataframe thead th {\n",
       "        text-align: right;\n",
       "    }\n",
       "</style>\n",
       "<table border=\"1\" class=\"dataframe\">\n",
       "  <thead>\n",
       "    <tr style=\"text-align: right;\">\n",
       "      <th></th>\n",
       "      <th>subject</th>\n",
       "    </tr>\n",
       "  </thead>\n",
       "  <tbody>\n",
       "    <tr>\n",
       "      <th>Neural_Networks</th>\n",
       "      <td>42</td>\n",
       "    </tr>\n",
       "    <tr>\n",
       "      <th>Probabilistic_Methods</th>\n",
       "      <td>22</td>\n",
       "    </tr>\n",
       "    <tr>\n",
       "      <th>Genetic_Algorithms</th>\n",
       "      <td>22</td>\n",
       "    </tr>\n",
       "    <tr>\n",
       "      <th>Theory</th>\n",
       "      <td>18</td>\n",
       "    </tr>\n",
       "    <tr>\n",
       "      <th>Case_Based</th>\n",
       "      <td>16</td>\n",
       "    </tr>\n",
       "    <tr>\n",
       "      <th>Reinforcement_Learning</th>\n",
       "      <td>11</td>\n",
       "    </tr>\n",
       "    <tr>\n",
       "      <th>Rule_Learning</th>\n",
       "      <td>9</td>\n",
       "    </tr>\n",
       "  </tbody>\n",
       "</table>\n",
       "</div>"
      ],
      "text/plain": [
       "                        subject\n",
       "Neural_Networks              42\n",
       "Probabilistic_Methods        22\n",
       "Genetic_Algorithms           22\n",
       "Theory                       18\n",
       "Case_Based                   16\n",
       "Reinforcement_Learning       11\n",
       "Rule_Learning                 9"
      ]
     },
     "execution_count": 10,
     "metadata": {},
     "output_type": "execute_result"
    }
   ],
   "source": [
    "train_subjects.value_counts().to_frame()"
   ]
  },
  {
   "cell_type": "markdown",
   "metadata": {},
   "source": [
    "The training set has class imbalance that might need to be compensated, e.g., via using a weighted cross-entropy loss in model training, with class weights inversely proportional to class support. However, we will ignore the class imbalance in this example, for simplicity.\n",
    "\n",
    "### Converting to numeric arrays\n",
    "\n",
    "For our categorical target, we will use one-hot vectors that will be compared against the model’s soft-max output. To do this conversion we can use the LabelBinarizer transform (docs) from scikit-learn. Another option would be the pandas.get_dummies function (docs), but the scikit-learn transform allows us to do the inverse transform easily later in the notebook, to interpret the predictions."
   ]
  },
  {
   "cell_type": "code",
   "execution_count": 11,
   "metadata": {},
   "outputs": [],
   "source": [
    "target_encoding = preprocessing.LabelBinarizer()\n",
    "\n",
    "train_targets = target_encoding.fit_transform(train_subjects)\n",
    "val_targets = target_encoding.transform(val_subjects)\n",
    "test_targets = target_encoding.transform(test_subjects)"
   ]
  },
  {
   "cell_type": "markdown",
   "metadata": {},
   "source": [
    "The CORA dataset contains attributes w_x that correspond to words found in that publication. If a word occurs more than once in a publication the relevant attribute will be set to one, otherwise it will be zero. These numeric attributes have been automatically included in the StellarGraph instance G, and so we do not have to do any further conversion.  \n",
    "\n",
    "Each paper is analysed to see if it contains each of 1433 words\n",
    "\n",
    "![Cora](../../../images/Cora-features.png)"
   ]
  },
  {
   "cell_type": "markdown",
   "metadata": {},
   "source": [
    "## Creating the GCN layers\n",
    "\n",
    "A machine learning model in StellarGraph consists of a pair of items:\n",
    "\n",
    "+ the layers themselves, such as graph convolution, dropout and even conventional dense layers\n",
    "+ a data generator to convert the core graph structure and node features into a format that can be fed into the Keras model for training or prediction\n",
    "\n",
    "GCN is a full-batch model and we’re doing node classification here, which means the FullBatchNodeGenerator class (docs) is the appropriate generator for our task. StellarGraph has many generators in order to support all its many models and tasks.\n",
    "\n",
    "Specifying the method='gcn' argument to the FullBatchNodeGenerator means it will yield data appropriate for the GCN algorithm specifically, by using the normalized graph Laplacian matrix to capture the graph structure."
   ]
  },
  {
   "cell_type": "code",
   "execution_count": 12,
   "metadata": {},
   "outputs": [
    {
     "name": "stdout",
     "output_type": "stream",
     "text": [
      "Using GCN (local pooling) filters...\n"
     ]
    }
   ],
   "source": [
    "generator = sg.mapper.FullBatchNodeGenerator(G, method=\"gcn\")"
   ]
  },
  {
   "cell_type": "markdown",
   "metadata": {},
   "source": [
    "A generator just encodes the information required to produce the model inputs.  \n",
    "Calling the flow method (docs) with a set of nodes and their true labels produces an object that can be used to train the model, on those nodes and labels that were specified.  \n",
    "We created a training set above, so that’s what we’re going to use here."
   ]
  },
  {
   "cell_type": "code",
   "execution_count": 13,
   "metadata": {},
   "outputs": [],
   "source": [
    "train_gen = generator.flow(train_subjects.index, train_targets)"
   ]
  },
  {
   "cell_type": "markdown",
   "metadata": {},
   "source": [
    "Now we can specify our machine learning model by building a stack of layers. We can use StellarGraph’s GCN class (docs), which packages up the creation of this stack of graph convolution and dropout layers. We can specify a few parameters to control this:\n",
    "\n",
    "+ layer_sizes: the number of hidden GCN layers and their sizes. In this case, two GCN layers with 16 units each.\n",
    "+ activations: the activation to apply to each GCN layer’s output. In this case, RelU for both layers.\n",
    "+ dropout: the rate of dropout for the input of each GCN layer. In this case, 50%.\n"
   ]
  },
  {
   "cell_type": "code",
   "execution_count": 14,
   "metadata": {},
   "outputs": [],
   "source": [
    "gcn = sg.layer.GCN(layer_sizes=[16, 16], activations=[\"relu\", \"relu\"], generator=generator, dropout=0.5)"
   ]
  },
  {
   "cell_type": "markdown",
   "metadata": {},
   "source": [
    "To create a Keras model we now expose the input and output tensors of the GCN model for node prediction, via the GCN.in_out_tensors method:"
   ]
  },
  {
   "cell_type": "code",
   "execution_count": 15,
   "metadata": {},
   "outputs": [
    {
     "data": {
      "text/plain": [
       "<KerasTensor: shape=(1, None, 16) dtype=float32 (created by layer 'gather_indices')>"
      ]
     },
     "execution_count": 15,
     "metadata": {},
     "output_type": "execute_result"
    }
   ],
   "source": [
    "x_inp, x_out = gcn.in_out_tensors()\n",
    "\n",
    "x_out"
   ]
  },
  {
   "cell_type": "markdown",
   "metadata": {},
   "source": [
    "The x_out value is a TensorFlow tensor that holds a 16-dimensional vector for the nodes requested when training or predicting. The actual predictions of each node’s class/subject needs to be computed from this vector. StellarGraph is built using Keras functionality, so this can be done with a standard Keras functionality: an additional dense layer (with one unit per class) using a softmax activation. This activation function ensures that the final outputs for each input node will be a vector of “probabilities”, where every value is between 0 and 1, and the whole vector sums to 1. The predicted class is the element with the highest value."
   ]
  },
  {
   "cell_type": "code",
   "execution_count": 16,
   "metadata": {},
   "outputs": [],
   "source": [
    "predictions = tf.keras.layers.Dense(units=train_targets.shape[1], activation=\"softmax\")(x_out)"
   ]
  },
  {
   "cell_type": "markdown",
   "metadata": {},
   "source": [
    "## Training and evaluating\n",
    "\n",
    "### Training the model\n",
    "\n",
    "Now let’s create the actual Keras model with the input tensors x_inp and output tensors being the predictions predictions from the final dense layer. Our task is a categorical prediction task, so a categorical cross-entropy loss function is appropriate. Even though we’re doing graph ML with StellarGraph, we’re still working with conventional Keras prediction values, so we can use the loss function from Keras directly."
   ]
  },
  {
   "cell_type": "code",
   "execution_count": 17,
   "metadata": {},
   "outputs": [],
   "source": [
    "model = tf.keras.Model(inputs=x_inp, outputs=predictions)\n",
    "model.compile(optimizer=tf.keras.optimizers.Adam(learning_rate=0.01),\n",
    "              loss=tf.keras.losses.categorical_crossentropy,\n",
    "              metrics=[\"acc\"],\n",
    "             )"
   ]
  },
  {
   "cell_type": "markdown",
   "metadata": {},
   "source": [
    "As we’re training the model, we’ll want to also keep track of its generalisation performance on the validation set, which means creating another data generator, using our FullBatchNodeGenerator we created above."
   ]
  },
  {
   "cell_type": "code",
   "execution_count": 18,
   "metadata": {},
   "outputs": [],
   "source": [
    "val_gen = generator.flow(val_subjects.index, val_targets)"
   ]
  },
  {
   "cell_type": "markdown",
   "metadata": {},
   "source": [
    "We can directly use the EarlyStopping functionality (docs) offered by Keras to stop training if the validation accuracy stops improving."
   ]
  },
  {
   "cell_type": "code",
   "execution_count": 19,
   "metadata": {},
   "outputs": [],
   "source": [
    "es_callback = tf.keras.callbacks.EarlyStopping(monitor=\"val_acc\", patience=50, restore_best_weights=True)"
   ]
  },
  {
   "cell_type": "markdown",
   "metadata": {},
   "source": [
    "We’ve now set up our model layers, our training data, our validation data and even our training callbacks, so we can now train the model using the model’s fit method (docs). Like most things in this section, this is all built into Keras."
   ]
  },
  {
   "cell_type": "code",
   "execution_count": 20,
   "metadata": {},
   "outputs": [
    {
     "name": "stdout",
     "output_type": "stream",
     "text": [
      "Epoch 1/200\n",
      "1/1 [==============================] - 1s 1s/step - loss: 1.9431 - acc: 0.1571 - val_loss: 1.9105 - val_acc: 0.2420\n",
      "Epoch 2/200\n",
      "1/1 [==============================] - 0s 88ms/step - loss: 1.8853 - acc: 0.3000 - val_loss: 1.8647 - val_acc: 0.3580\n",
      "Epoch 3/200\n",
      "1/1 [==============================] - 0s 83ms/step - loss: 1.8283 - acc: 0.4357 - val_loss: 1.7948 - val_acc: 0.5000\n",
      "Epoch 4/200\n",
      "1/1 [==============================] - 0s 83ms/step - loss: 1.7243 - acc: 0.5000 - val_loss: 1.7100 - val_acc: 0.5660\n",
      "Epoch 5/200\n",
      "1/1 [==============================] - 0s 87ms/step - loss: 1.6116 - acc: 0.6071 - val_loss: 1.6214 - val_acc: 0.5980\n",
      "Epoch 6/200\n",
      "1/1 [==============================] - 0s 88ms/step - loss: 1.5081 - acc: 0.6000 - val_loss: 1.5351 - val_acc: 0.5940\n",
      "Epoch 7/200\n",
      "1/1 [==============================] - 0s 84ms/step - loss: 1.3835 - acc: 0.6714 - val_loss: 1.4563 - val_acc: 0.6000\n",
      "Epoch 8/200\n",
      "1/1 [==============================] - 0s 97ms/step - loss: 1.2833 - acc: 0.6071 - val_loss: 1.3834 - val_acc: 0.6060\n",
      "Epoch 9/200\n",
      "1/1 [==============================] - 0s 92ms/step - loss: 1.2077 - acc: 0.6429 - val_loss: 1.3069 - val_acc: 0.6220\n",
      "Epoch 10/200\n",
      "1/1 [==============================] - 0s 74ms/step - loss: 1.0770 - acc: 0.7286 - val_loss: 1.2267 - val_acc: 0.6400\n",
      "Epoch 11/200\n",
      "1/1 [==============================] - 0s 82ms/step - loss: 0.9687 - acc: 0.7500 - val_loss: 1.1487 - val_acc: 0.6520\n",
      "Epoch 12/200\n",
      "1/1 [==============================] - 0s 72ms/step - loss: 0.9476 - acc: 0.7286 - val_loss: 1.0828 - val_acc: 0.6660\n",
      "Epoch 13/200\n",
      "1/1 [==============================] - 0s 82ms/step - loss: 0.7918 - acc: 0.8214 - val_loss: 1.0275 - val_acc: 0.6760\n",
      "Epoch 14/200\n",
      "1/1 [==============================] - 0s 73ms/step - loss: 0.7662 - acc: 0.8071 - val_loss: 0.9888 - val_acc: 0.6700\n",
      "Epoch 15/200\n",
      "1/1 [==============================] - 0s 81ms/step - loss: 0.6458 - acc: 0.7786 - val_loss: 0.9621 - val_acc: 0.6700\n",
      "Epoch 16/200\n",
      "1/1 [==============================] - 0s 79ms/step - loss: 0.6307 - acc: 0.8143 - val_loss: 0.9378 - val_acc: 0.6800\n",
      "Epoch 17/200\n",
      "1/1 [==============================] - 0s 81ms/step - loss: 0.5641 - acc: 0.8571 - val_loss: 0.9124 - val_acc: 0.6860\n",
      "Epoch 18/200\n",
      "1/1 [==============================] - 0s 73ms/step - loss: 0.5017 - acc: 0.8500 - val_loss: 0.8805 - val_acc: 0.6980\n",
      "Epoch 19/200\n",
      "1/1 [==============================] - 0s 84ms/step - loss: 0.4467 - acc: 0.8643 - val_loss: 0.8530 - val_acc: 0.7120\n",
      "Epoch 20/200\n",
      "1/1 [==============================] - 0s 74ms/step - loss: 0.4473 - acc: 0.8500 - val_loss: 0.8315 - val_acc: 0.7280\n",
      "Epoch 21/200\n",
      "1/1 [==============================] - 0s 77ms/step - loss: 0.3944 - acc: 0.8571 - val_loss: 0.8119 - val_acc: 0.7420\n",
      "Epoch 22/200\n",
      "1/1 [==============================] - 0s 76ms/step - loss: 0.3720 - acc: 0.8929 - val_loss: 0.8016 - val_acc: 0.7440\n",
      "Epoch 23/200\n",
      "1/1 [==============================] - 0s 78ms/step - loss: 0.3912 - acc: 0.8786 - val_loss: 0.7916 - val_acc: 0.7600\n",
      "Epoch 24/200\n",
      "1/1 [==============================] - 0s 88ms/step - loss: 0.2848 - acc: 0.9286 - val_loss: 0.7866 - val_acc: 0.7680\n",
      "Epoch 25/200\n",
      "1/1 [==============================] - 0s 86ms/step - loss: 0.2663 - acc: 0.9214 - val_loss: 0.7911 - val_acc: 0.7660\n",
      "Epoch 26/200\n",
      "1/1 [==============================] - 0s 74ms/step - loss: 0.2234 - acc: 0.9643 - val_loss: 0.8051 - val_acc: 0.7660\n",
      "Epoch 27/200\n",
      "1/1 [==============================] - 0s 79ms/step - loss: 0.2651 - acc: 0.9214 - val_loss: 0.8224 - val_acc: 0.7660\n",
      "Epoch 28/200\n",
      "1/1 [==============================] - 0s 86ms/step - loss: 0.2096 - acc: 0.9643 - val_loss: 0.8397 - val_acc: 0.7680\n",
      "Epoch 29/200\n",
      "1/1 [==============================] - 0s 86ms/step - loss: 0.1936 - acc: 0.9643 - val_loss: 0.8444 - val_acc: 0.7700\n",
      "Epoch 30/200\n",
      "1/1 [==============================] - 0s 91ms/step - loss: 0.1659 - acc: 0.9571 - val_loss: 0.8480 - val_acc: 0.7780\n",
      "Epoch 31/200\n",
      "1/1 [==============================] - 0s 80ms/step - loss: 0.1419 - acc: 0.9786 - val_loss: 0.8502 - val_acc: 0.7740\n",
      "Epoch 32/200\n",
      "1/1 [==============================] - 0s 85ms/step - loss: 0.1783 - acc: 0.9500 - val_loss: 0.8536 - val_acc: 0.7800\n",
      "Epoch 33/200\n",
      "1/1 [==============================] - 0s 91ms/step - loss: 0.1508 - acc: 0.9643 - val_loss: 0.8537 - val_acc: 0.7840\n",
      "Epoch 34/200\n",
      "1/1 [==============================] - 0s 89ms/step - loss: 0.1375 - acc: 0.9786 - val_loss: 0.8503 - val_acc: 0.7940\n",
      "Epoch 35/200\n",
      "1/1 [==============================] - 0s 77ms/step - loss: 0.1134 - acc: 0.9643 - val_loss: 0.8508 - val_acc: 0.7880\n",
      "Epoch 36/200\n",
      "1/1 [==============================] - 0s 77ms/step - loss: 0.1065 - acc: 0.9857 - val_loss: 0.8557 - val_acc: 0.7880\n",
      "Epoch 37/200\n",
      "1/1 [==============================] - 0s 91ms/step - loss: 0.1144 - acc: 0.9714 - val_loss: 0.8650 - val_acc: 0.7840\n",
      "Epoch 38/200\n",
      "1/1 [==============================] - 0s 88ms/step - loss: 0.1126 - acc: 0.9857 - val_loss: 0.8759 - val_acc: 0.7780\n",
      "Epoch 39/200\n",
      "1/1 [==============================] - 0s 80ms/step - loss: 0.0823 - acc: 0.9857 - val_loss: 0.8905 - val_acc: 0.7760\n",
      "Epoch 40/200\n",
      "1/1 [==============================] - 0s 85ms/step - loss: 0.0852 - acc: 0.9857 - val_loss: 0.9051 - val_acc: 0.7740\n",
      "Epoch 41/200\n",
      "1/1 [==============================] - 0s 76ms/step - loss: 0.1002 - acc: 0.9643 - val_loss: 0.9141 - val_acc: 0.7740\n",
      "Epoch 42/200\n",
      "1/1 [==============================] - 0s 83ms/step - loss: 0.1082 - acc: 0.9571 - val_loss: 0.9183 - val_acc: 0.7760\n",
      "Epoch 43/200\n",
      "1/1 [==============================] - 0s 79ms/step - loss: 0.1016 - acc: 0.9857 - val_loss: 0.9287 - val_acc: 0.7800\n",
      "Epoch 44/200\n",
      "1/1 [==============================] - 0s 86ms/step - loss: 0.0919 - acc: 0.9714 - val_loss: 0.9384 - val_acc: 0.7780\n",
      "Epoch 45/200\n",
      "1/1 [==============================] - 0s 86ms/step - loss: 0.0825 - acc: 0.9786 - val_loss: 0.9495 - val_acc: 0.7760\n",
      "Epoch 46/200\n",
      "1/1 [==============================] - 0s 80ms/step - loss: 0.0914 - acc: 0.9714 - val_loss: 0.9586 - val_acc: 0.7820\n",
      "Epoch 47/200\n",
      "1/1 [==============================] - 0s 75ms/step - loss: 0.0711 - acc: 0.9786 - val_loss: 0.9682 - val_acc: 0.7820\n",
      "Epoch 48/200\n",
      "1/1 [==============================] - 0s 73ms/step - loss: 0.0617 - acc: 0.9857 - val_loss: 0.9798 - val_acc: 0.7820\n",
      "Epoch 49/200\n",
      "1/1 [==============================] - 0s 78ms/step - loss: 0.0552 - acc: 0.9857 - val_loss: 0.9887 - val_acc: 0.7860\n",
      "Epoch 50/200\n",
      "1/1 [==============================] - 0s 90ms/step - loss: 0.0525 - acc: 0.9929 - val_loss: 0.9988 - val_acc: 0.7840\n",
      "Epoch 51/200\n",
      "1/1 [==============================] - 0s 81ms/step - loss: 0.0734 - acc: 0.9857 - val_loss: 0.9930 - val_acc: 0.7860\n",
      "Epoch 52/200\n",
      "1/1 [==============================] - 0s 85ms/step - loss: 0.0275 - acc: 0.9929 - val_loss: 0.9874 - val_acc: 0.7900\n",
      "Epoch 53/200\n",
      "1/1 [==============================] - 0s 82ms/step - loss: 0.0515 - acc: 0.9929 - val_loss: 0.9851 - val_acc: 0.7820\n",
      "Epoch 54/200\n",
      "1/1 [==============================] - 0s 83ms/step - loss: 0.0448 - acc: 0.9786 - val_loss: 0.9848 - val_acc: 0.7840\n",
      "Epoch 55/200\n",
      "1/1 [==============================] - 0s 77ms/step - loss: 0.0707 - acc: 0.9857 - val_loss: 0.9871 - val_acc: 0.7840\n",
      "Epoch 56/200\n",
      "1/1 [==============================] - 0s 83ms/step - loss: 0.0554 - acc: 0.9714 - val_loss: 0.9909 - val_acc: 0.7800\n",
      "Epoch 57/200\n",
      "1/1 [==============================] - 0s 79ms/step - loss: 0.1082 - acc: 0.9571 - val_loss: 1.0057 - val_acc: 0.7780\n",
      "Epoch 58/200\n",
      "1/1 [==============================] - 0s 73ms/step - loss: 0.0376 - acc: 0.9857 - val_loss: 1.0154 - val_acc: 0.7780\n",
      "Epoch 59/200\n",
      "1/1 [==============================] - 0s 85ms/step - loss: 0.0666 - acc: 0.9857 - val_loss: 1.0251 - val_acc: 0.7780\n",
      "Epoch 60/200\n",
      "1/1 [==============================] - 0s 80ms/step - loss: 0.0757 - acc: 0.9786 - val_loss: 1.0344 - val_acc: 0.7800\n",
      "Epoch 61/200\n",
      "1/1 [==============================] - 0s 76ms/step - loss: 0.0456 - acc: 0.9929 - val_loss: 1.0419 - val_acc: 0.7800\n",
      "Epoch 62/200\n",
      "1/1 [==============================] - 0s 77ms/step - loss: 0.0228 - acc: 0.9929 - val_loss: 1.0514 - val_acc: 0.7760\n",
      "Epoch 63/200\n",
      "1/1 [==============================] - 0s 84ms/step - loss: 0.0649 - acc: 0.9714 - val_loss: 1.0513 - val_acc: 0.7820\n",
      "Epoch 64/200\n",
      "1/1 [==============================] - 0s 83ms/step - loss: 0.0489 - acc: 0.9857 - val_loss: 1.0561 - val_acc: 0.7800\n",
      "Epoch 65/200\n",
      "1/1 [==============================] - 0s 86ms/step - loss: 0.0298 - acc: 0.9929 - val_loss: 1.0633 - val_acc: 0.7760\n",
      "Epoch 66/200\n",
      "1/1 [==============================] - 0s 88ms/step - loss: 0.0357 - acc: 0.9929 - val_loss: 1.0752 - val_acc: 0.7760\n",
      "Epoch 67/200\n",
      "1/1 [==============================] - 0s 82ms/step - loss: 0.0378 - acc: 0.9929 - val_loss: 1.0897 - val_acc: 0.7800\n",
      "Epoch 68/200\n",
      "1/1 [==============================] - 0s 79ms/step - loss: 0.0499 - acc: 0.9786 - val_loss: 1.0983 - val_acc: 0.7800\n",
      "Epoch 69/200\n",
      "1/1 [==============================] - 0s 72ms/step - loss: 0.0435 - acc: 0.9929 - val_loss: 1.1100 - val_acc: 0.7760\n",
      "Epoch 70/200\n",
      "1/1 [==============================] - 0s 76ms/step - loss: 0.0188 - acc: 1.0000 - val_loss: 1.1219 - val_acc: 0.7760\n",
      "Epoch 71/200\n",
      "1/1 [==============================] - 0s 85ms/step - loss: 0.0338 - acc: 0.9929 - val_loss: 1.1386 - val_acc: 0.7800\n",
      "Epoch 72/200\n",
      "1/1 [==============================] - 0s 84ms/step - loss: 0.0347 - acc: 1.0000 - val_loss: 1.1522 - val_acc: 0.7780\n",
      "Epoch 73/200\n",
      "1/1 [==============================] - 0s 78ms/step - loss: 0.0353 - acc: 0.9929 - val_loss: 1.1632 - val_acc: 0.7720\n",
      "Epoch 74/200\n",
      "1/1 [==============================] - 0s 73ms/step - loss: 0.0250 - acc: 1.0000 - val_loss: 1.1682 - val_acc: 0.7700\n",
      "Epoch 75/200\n",
      "1/1 [==============================] - 0s 76ms/step - loss: 0.0385 - acc: 0.9857 - val_loss: 1.1711 - val_acc: 0.7680\n",
      "Epoch 76/200\n",
      "1/1 [==============================] - 0s 75ms/step - loss: 0.0540 - acc: 0.9786 - val_loss: 1.1650 - val_acc: 0.7660\n",
      "Epoch 77/200\n",
      "1/1 [==============================] - 0s 78ms/step - loss: 0.0635 - acc: 0.9786 - val_loss: 1.1691 - val_acc: 0.7640\n",
      "Epoch 78/200\n",
      "1/1 [==============================] - 0s 78ms/step - loss: 0.0358 - acc: 0.9929 - val_loss: 1.1709 - val_acc: 0.7660\n",
      "Epoch 79/200\n",
      "1/1 [==============================] - 0s 92ms/step - loss: 0.0466 - acc: 0.9857 - val_loss: 1.1736 - val_acc: 0.7620\n",
      "Epoch 80/200\n",
      "1/1 [==============================] - 0s 82ms/step - loss: 0.0410 - acc: 0.9857 - val_loss: 1.1692 - val_acc: 0.7620\n",
      "Epoch 81/200\n",
      "1/1 [==============================] - 0s 78ms/step - loss: 0.0187 - acc: 1.0000 - val_loss: 1.1632 - val_acc: 0.7640\n",
      "Epoch 82/200\n",
      "1/1 [==============================] - 0s 80ms/step - loss: 0.0873 - acc: 0.9714 - val_loss: 1.1489 - val_acc: 0.7700\n",
      "Epoch 83/200\n",
      "1/1 [==============================] - 0s 82ms/step - loss: 0.0318 - acc: 0.9929 - val_loss: 1.1404 - val_acc: 0.7760\n",
      "Epoch 84/200\n",
      "1/1 [==============================] - 0s 90ms/step - loss: 0.0464 - acc: 0.9929 - val_loss: 1.1364 - val_acc: 0.7800\n"
     ]
    }
   ],
   "source": [
    "history = model.fit(train_gen,\n",
    "                    epochs=200,\n",
    "                    validation_data=val_gen,\n",
    "                    verbose=1,\n",
    "                    shuffle=False,  # this should be False, since shuffling data means shuffling the whole graph\n",
    "                    callbacks=[es_callback],\n",
    "                   )"
   ]
  },
  {
   "cell_type": "markdown",
   "metadata": {},
   "source": [
    "Once we’ve trained the model, we can view the behaviour loss function and any other metrics using the [plot_history function](https://stellargraph.readthedocs.io/en/stable/api.html#stellargraph.utils.plot_history). In this case, we can see the loss and accuracy on both the training and validation sets."
   ]
  },
  {
   "cell_type": "code",
   "execution_count": 21,
   "metadata": {},
   "outputs": [
    {
     "data": {
      "image/png": "[encoded data removed]",
      "text/plain": [
       "<Figure size 504x576 with 2 Axes>"
      ]
     },
     "metadata": {
      "needs_background": "light"
     },
     "output_type": "display_data"
    }
   ],
   "source": [
    "sg.utils.plot_history(history)"
   ]
  },
  {
   "cell_type": "markdown",
   "metadata": {},
   "source": [
    "As the final part of our evaluation, let’s check the model against the test set. We again create the data required for this using the flow method on our FullBatchNodeGenerator from above, and can use the model’s evaluate method (docs) to compute the metric values for the trained model.  \n",
    "\n",
    "As expected, the model performs similarly on the validation set during training and on the test set here."
   ]
  },
  {
   "cell_type": "code",
   "execution_count": 22,
   "metadata": {},
   "outputs": [],
   "source": [
    "test_gen = generator.flow(test_subjects.index, test_targets)"
   ]
  },
  {
   "cell_type": "code",
   "execution_count": 23,
   "metadata": {},
   "outputs": [
    {
     "name": "stdout",
     "output_type": "stream",
     "text": [
      "1/1 [==============================] - 0s 55ms/step - loss: 0.8547 - acc: 0.7829\n",
      "\n",
      "Test Set Metrics:\n",
      "\tloss: 0.8547\n",
      "\tacc: 0.7829\n"
     ]
    }
   ],
   "source": [
    "test_metrics = model.evaluate(test_gen)\n",
    "print(\"\\nTest Set Metrics:\")\n",
    "\n",
    "for name, val in zip(model.metrics_names, test_metrics):\n",
    "    print(\"\\t{}: {:0.4f}\".format(name, val))"
   ]
  },
  {
   "cell_type": "markdown",
   "metadata": {},
   "source": [
    "### Making predictions with the model\n",
    "\n",
    "Now let’s get the predictions for all nodes. You’re probably getting used to it by now, but we use our FullBatchNodeGenerator to create the input required and then use one of the model’s methods: [predict](https://www.tensorflow.org/api_docs/python/tf/keras/Model#predict). This time we don’t provide the labels to flow, and instead just the nodes, because we’re trying to predict these classes without knowing them."
   ]
  },
  {
   "cell_type": "code",
   "execution_count": 24,
   "metadata": {},
   "outputs": [],
   "source": [
    "all_nodes = node_subjects.index\n",
    "all_gen = generator.flow(all_nodes)\n",
    "all_predictions = model.predict(all_gen)"
   ]
  },
  {
   "cell_type": "markdown",
   "metadata": {},
   "source": [
    "These predictions will be the output of the softmax layer, so to get final categories we’ll use the inverse_transform method of our target attribute specification to turn these values back to the original categories.\n",
    "\n",
    "Note that for full-batch methods the batch size is 1 and the predictions have shape (1,Nnodes,Nclasses)\n",
    "so we we remove the batch dimension to obtain predictions of shape (Nnodes,Nclasses) using the NumPy squeeze method."
   ]
  },
  {
   "cell_type": "code",
   "execution_count": 25,
   "metadata": {},
   "outputs": [],
   "source": [
    "node_predictions = target_encoding.inverse_transform(all_predictions.squeeze())"
   ]
  },
  {
   "cell_type": "markdown",
   "metadata": {},
   "source": [
    "Let’s have a look at a few predictions after training the model:"
   ]
  },
  {
   "cell_type": "code",
   "execution_count": 26,
   "metadata": {},
   "outputs": [
    {
     "data": {
      "text/html": [
       "<div>\n",
       "<style scoped>\n",
       "    .dataframe tbody tr th:only-of-type {\n",
       "        vertical-align: middle;\n",
       "    }\n",
       "\n",
       "    .dataframe tbody tr th {\n",
       "        vertical-align: top;\n",
       "    }\n",
       "\n",
       "    .dataframe thead th {\n",
       "        text-align: right;\n",
       "    }\n",
       "</style>\n",
       "<table border=\"1\" class=\"dataframe\">\n",
       "  <thead>\n",
       "    <tr style=\"text-align: right;\">\n",
       "      <th></th>\n",
       "      <th>Predicted</th>\n",
       "      <th>True</th>\n",
       "    </tr>\n",
       "  </thead>\n",
       "  <tbody>\n",
       "    <tr>\n",
       "      <th>31336</th>\n",
       "      <td>Neural_Networks</td>\n",
       "      <td>Neural_Networks</td>\n",
       "    </tr>\n",
       "    <tr>\n",
       "      <th>1061127</th>\n",
       "      <td>Rule_Learning</td>\n",
       "      <td>Rule_Learning</td>\n",
       "    </tr>\n",
       "    <tr>\n",
       "      <th>1106406</th>\n",
       "      <td>Reinforcement_Learning</td>\n",
       "      <td>Reinforcement_Learning</td>\n",
       "    </tr>\n",
       "    <tr>\n",
       "      <th>13195</th>\n",
       "      <td>Reinforcement_Learning</td>\n",
       "      <td>Reinforcement_Learning</td>\n",
       "    </tr>\n",
       "    <tr>\n",
       "      <th>37879</th>\n",
       "      <td>Probabilistic_Methods</td>\n",
       "      <td>Probabilistic_Methods</td>\n",
       "    </tr>\n",
       "    <tr>\n",
       "      <th>1126012</th>\n",
       "      <td>Probabilistic_Methods</td>\n",
       "      <td>Probabilistic_Methods</td>\n",
       "    </tr>\n",
       "    <tr>\n",
       "      <th>1107140</th>\n",
       "      <td>Theory</td>\n",
       "      <td>Theory</td>\n",
       "    </tr>\n",
       "    <tr>\n",
       "      <th>1102850</th>\n",
       "      <td>Neural_Networks</td>\n",
       "      <td>Neural_Networks</td>\n",
       "    </tr>\n",
       "    <tr>\n",
       "      <th>31349</th>\n",
       "      <td>Neural_Networks</td>\n",
       "      <td>Neural_Networks</td>\n",
       "    </tr>\n",
       "    <tr>\n",
       "      <th>1106418</th>\n",
       "      <td>Theory</td>\n",
       "      <td>Theory</td>\n",
       "    </tr>\n",
       "    <tr>\n",
       "      <th>1123188</th>\n",
       "      <td>Probabilistic_Methods</td>\n",
       "      <td>Neural_Networks</td>\n",
       "    </tr>\n",
       "    <tr>\n",
       "      <th>1128990</th>\n",
       "      <td>Theory</td>\n",
       "      <td>Genetic_Algorithms</td>\n",
       "    </tr>\n",
       "    <tr>\n",
       "      <th>109323</th>\n",
       "      <td>Probabilistic_Methods</td>\n",
       "      <td>Probabilistic_Methods</td>\n",
       "    </tr>\n",
       "    <tr>\n",
       "      <th>217139</th>\n",
       "      <td>Case_Based</td>\n",
       "      <td>Case_Based</td>\n",
       "    </tr>\n",
       "    <tr>\n",
       "      <th>31353</th>\n",
       "      <td>Neural_Networks</td>\n",
       "      <td>Neural_Networks</td>\n",
       "    </tr>\n",
       "    <tr>\n",
       "      <th>32083</th>\n",
       "      <td>Neural_Networks</td>\n",
       "      <td>Neural_Networks</td>\n",
       "    </tr>\n",
       "    <tr>\n",
       "      <th>1126029</th>\n",
       "      <td>Reinforcement_Learning</td>\n",
       "      <td>Reinforcement_Learning</td>\n",
       "    </tr>\n",
       "    <tr>\n",
       "      <th>1118017</th>\n",
       "      <td>Neural_Networks</td>\n",
       "      <td>Neural_Networks</td>\n",
       "    </tr>\n",
       "    <tr>\n",
       "      <th>49482</th>\n",
       "      <td>Neural_Networks</td>\n",
       "      <td>Neural_Networks</td>\n",
       "    </tr>\n",
       "    <tr>\n",
       "      <th>753265</th>\n",
       "      <td>Theory</td>\n",
       "      <td>Neural_Networks</td>\n",
       "    </tr>\n",
       "  </tbody>\n",
       "</table>\n",
       "</div>"
      ],
      "text/plain": [
       "                      Predicted                    True\n",
       "31336           Neural_Networks         Neural_Networks\n",
       "1061127           Rule_Learning           Rule_Learning\n",
       "1106406  Reinforcement_Learning  Reinforcement_Learning\n",
       "13195    Reinforcement_Learning  Reinforcement_Learning\n",
       "37879     Probabilistic_Methods   Probabilistic_Methods\n",
       "1126012   Probabilistic_Methods   Probabilistic_Methods\n",
       "1107140                  Theory                  Theory\n",
       "1102850         Neural_Networks         Neural_Networks\n",
       "31349           Neural_Networks         Neural_Networks\n",
       "1106418                  Theory                  Theory\n",
       "1123188   Probabilistic_Methods         Neural_Networks\n",
       "1128990                  Theory      Genetic_Algorithms\n",
       "109323    Probabilistic_Methods   Probabilistic_Methods\n",
       "217139               Case_Based              Case_Based\n",
       "31353           Neural_Networks         Neural_Networks\n",
       "32083           Neural_Networks         Neural_Networks\n",
       "1126029  Reinforcement_Learning  Reinforcement_Learning\n",
       "1118017         Neural_Networks         Neural_Networks\n",
       "49482           Neural_Networks         Neural_Networks\n",
       "753265                   Theory         Neural_Networks"
      ]
     },
     "execution_count": 26,
     "metadata": {},
     "output_type": "execute_result"
    }
   ],
   "source": [
    "df = pd.DataFrame({\"Predicted\": node_predictions, \"True\": node_subjects})\n",
    "df.head(20)"
   ]
  },
  {
   "cell_type": "markdown",
   "metadata": {},
   "source": [
    "### Node embeddings\n",
    "\n",
    "In addition to just predicting the node class, it can be useful to get a more detailed picture of what information the model has learnt about the nodes and their neighbourhoods. In this case, this means an embedding of the node (also called a “representation”) into a latent vector space that captures that information, and it comes in the form of either a look-up table mapping node to a vector of numbers, or a neural network that produces those vectors. For GCN, we’re going to be using the second option, using the last graph convolution layer of the GCN model (called x_out above), before we applied the prediction layer.\n",
    "\n",
    "We can visualise these embeddings as points on a plot, colored by their true subject labels. If the model has learned useful information about the nodes based on their class, we expect to see nice clusters of papers in the node embedding space, with papers of the same subject belonging to the same cluster.\n",
    "\n",
    "To create a model that computes node embeddings, we use the same input tensors (x_inp) as the prediction model above, and just swap the output tensor to the GCN one (x_out) instead of the prediction layer. These tensors are connected to the same layers and weights that we trained when training the predictions above, and so we’re only using this model to compute/”predict” the node embedding vectors. Similar to doing predictions for every node, we will compute embeddings for every node using the all_gen data."
   ]
  },
  {
   "cell_type": "code",
   "execution_count": 27,
   "metadata": {},
   "outputs": [],
   "source": [
    "embedding_model = tf.keras.Model(inputs=x_inp, outputs=x_out)"
   ]
  },
  {
   "cell_type": "code",
   "execution_count": 28,
   "metadata": {},
   "outputs": [
    {
     "data": {
      "text/plain": [
       "(1, 2708, 16)"
      ]
     },
     "execution_count": 28,
     "metadata": {},
     "output_type": "execute_result"
    }
   ],
   "source": [
    "emb = embedding_model.predict(all_gen)\n",
    "emb.shape"
   ]
  },
  {
   "cell_type": "markdown",
   "metadata": {},
   "source": [
    "The last GCN layer had output dimension 16, meaning each embedding consists of 16 numbers. Plotting this directly would require a 16 dimensional plot, which is hard for humans to visualise. Instead, we can first project these vectors down to just 2 numbers, making vectors of dimension 2 that can be plotted on a normal 2D scatter plot.\n",
    "\n",
    "There are many tools for this dimensionality reduction task, many of which are offered by scikit-learn. Two of the more common ones are principal component analysis (PCA) (which is linear) and t-distributed Stochastic Neighbor Embedding (t-SNE or TSNE) (non-linear). t-SNE is slower but typically gives nicer results for plotting."
   ]
  },
  {
   "cell_type": "code",
   "execution_count": 29,
   "metadata": {},
   "outputs": [],
   "source": [
    "from sklearn.decomposition import PCA\n",
    "from sklearn.manifold import TSNE\n",
    "\n",
    "transform = TSNE  # or PCA"
   ]
  },
  {
   "cell_type": "markdown",
   "metadata": {},
   "source": [
    "Note that the embeddings from the GCN model have a batch dimension of 1 so we squeeze this to get a matrix of Nnodes×Nemb."
   ]
  },
  {
   "cell_type": "code",
   "execution_count": 30,
   "metadata": {},
   "outputs": [
    {
     "data": {
      "text/plain": [
       "(2708, 16)"
      ]
     },
     "execution_count": 30,
     "metadata": {},
     "output_type": "execute_result"
    }
   ],
   "source": [
    "X = emb.squeeze(0)\n",
    "X.shape"
   ]
  },
  {
   "cell_type": "markdown",
   "metadata": {},
   "source": [
    "We’ve thus prepared our high-dimension embeddings and chosen our dimension-reduction transform, so we now compute the reduced vectors, as two columns of the new values."
   ]
  },
  {
   "cell_type": "code",
   "execution_count": 31,
   "metadata": {},
   "outputs": [
    {
     "data": {
      "text/plain": [
       "(2708, 2)"
      ]
     },
     "execution_count": 31,
     "metadata": {},
     "output_type": "execute_result"
    }
   ],
   "source": [
    "trans = transform(n_components=2)\n",
    "X_reduced = trans.fit_transform(X)\n",
    "X_reduced.shape"
   ]
  },
  {
   "cell_type": "markdown",
   "metadata": {},
   "source": [
    "The X_reduced values contains a pair of numbers for each node, in the same order as the node_subjects Series of ground-truth labels (because that’s how all_gen was created). This is enough to do a scatter plot of the nodes, with colors. We can let matplotlib compute the colors by mapping the subjects to integers 0, 1, …, 6, using Pandas’s support for categorical data.  \n",
    "Qualitatively, the plot shows good clustering, where nodes of a single colour are mostly grouped together."
   ]
  },
  {
   "cell_type": "code",
   "execution_count": 32,
   "metadata": {},
   "outputs": [
    {
     "data": {
      "text/plain": [
       "[None,\n",
       " Text(0.5, 0, '$X_1$'),\n",
       " Text(0, 0.5, '$X_2$'),\n",
       " Text(0.5, 1.0, 'TSNE visualization of GCN embeddings for cora dataset')]"
      ]
     },
     "execution_count": 32,
     "metadata": {},
     "output_type": "execute_result"
    },
    {
     "data": {
      "image/png": "[encoded data removed]",
      "text/plain": [
       "<Figure size 504x504 with 1 Axes>"
      ]
     },
     "metadata": {
      "needs_background": "light"
     },
     "output_type": "display_data"
    }
   ],
   "source": [
    "fig, ax = plt.subplots(figsize=(7, 7))\n",
    "ax.scatter(X_reduced[:, 0],\n",
    "           X_reduced[:, 1],\n",
    "           c=node_subjects.astype(\"category\").cat.codes,\n",
    "           cmap=\"jet\",\n",
    "           alpha=0.7,\n",
    "          )\n",
    "\n",
    "ax.set(aspect=\"equal\",\n",
    "       xlabel=\"$X_1$\",\n",
    "       ylabel=\"$X_2$\",\n",
    "       title=f\"{transform.__name__} visualization of GCN embeddings for cora dataset\",\n",
    "      )"
   ]
  },
  {
   "cell_type": "markdown",
   "metadata": {},
   "source": [
    "## Conclusion\n",
    "\n",
    "This notebook gave an example using the GCN algorithm to predict the class of nodes. Specifically, the subject of an academic paper in the Cora dataset. Our model used:\n",
    "\n",
    "+ the graph structure of the dataset, in the form of citation links between papers\n",
    "+ the 1433-dimensional feature vectors associated with each paper\n",
    "\n",
    "Once we trained a model for prediction, we could:\n",
    "\n",
    "+ predict the classes of nodes\n",
    "+ use the model’s weights to compute vector embeddings for nodes\n",
    "\n",
    "This notebook ran through the following steps:\n",
    "\n",
    "+ prepared the data using common data science libraries\n",
    "+ built a TensorFlow Keras model and data generator with the [StellarGraph library](https://github.com/stellargraph/stellargraph)\n",
    "+ trained and evaluated it using TensorFlow and other libraries\n",
    "\n",
    "For problems with only small amounts of labelled data, model performance can be improved by semi-supervised training. See the [GCN + Deep Graph Infomax fine-tuning demo](https://stellargraph.readthedocs.io/en/stable/demos/node-classification/gcn-deep-graph-infomax-fine-tuning-node-classification.html) for more details on how to do this.\n",
    "\n",
    "StellarGraph includes [other algorithms for node classification](https://stellargraph.readthedocs.io/en/stable/demos/node-classification/index.html) and [algorithms and demos for other tasks](https://stellargraph.readthedocs.io/en/stable/demos/index.html). Most can be applied with the same basic structure as this GCN demo.\n"
   ]
  }
 ],
 "metadata": {
  "kernelspec": {
   "display_name": "Python 3",
   "language": "python",
   "name": "python3"
  },
  "language_info": {
   "codemirror_mode": {
    "name": "ipython",
    "version": 3
   },
   "file_extension": ".py",
   "mimetype": "text/x-python",
   "name": "python",
   "nbconvert_exporter": "python",
   "pygments_lexer": "ipython3",
   "version": "3.8.10"
  }
 },
 "nbformat": 4,
 "nbformat_minor": 4
}
